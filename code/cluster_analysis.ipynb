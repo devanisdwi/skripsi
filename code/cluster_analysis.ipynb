{
 "cells": [
  {
   "cell_type": "code",
   "execution_count": 1,
   "metadata": {},
   "outputs": [],
   "source": [
    "from kmodes.kmodes import KModes\n",
    "from kmodes.kprototypes import KPrototypes\n",
    "from kneed import KneeLocator\n",
    "from sklearn.metrics import silhouette_score\n",
    "from tqdm.auto import tqdm\n",
    "import pandas as pd\n",
    "import numpy as np\n",
    "import seaborn as sns\n",
    "import matplotlib.pyplot as plt"
   ]
  },
  {
   "cell_type": "code",
   "execution_count": 3,
   "metadata": {},
   "outputs": [
    {
     "data": {
      "text/html": [
       "<div>\n",
       "<style scoped>\n",
       "    .dataframe tbody tr th:only-of-type {\n",
       "        vertical-align: middle;\n",
       "    }\n",
       "\n",
       "    .dataframe tbody tr th {\n",
       "        vertical-align: top;\n",
       "    }\n",
       "\n",
       "    .dataframe thead th {\n",
       "        text-align: right;\n",
       "    }\n",
       "</style>\n",
       "<table border=\"1\" class=\"dataframe\">\n",
       "  <thead>\n",
       "    <tr style=\"text-align: right;\">\n",
       "      <th></th>\n",
       "      <th>id_student</th>\n",
       "      <th>code_module</th>\n",
       "      <th>gender</th>\n",
       "      <th>disability</th>\n",
       "      <th>final_result</th>\n",
       "      <th>score</th>\n",
       "      <th>assessment_type</th>\n",
       "      <th>activity_type</th>\n",
       "      <th>total_activities</th>\n",
       "      <th>sum_click</th>\n",
       "      <th>total_interaction</th>\n",
       "    </tr>\n",
       "  </thead>\n",
       "  <tbody>\n",
       "    <tr>\n",
       "      <th>0</th>\n",
       "      <td>11391</td>\n",
       "      <td>AAA</td>\n",
       "      <td>M</td>\n",
       "      <td>N</td>\n",
       "      <td>Pass</td>\n",
       "      <td>82.0</td>\n",
       "      <td>TMA</td>\n",
       "      <td>resource</td>\n",
       "      <td>9</td>\n",
       "      <td>16</td>\n",
       "      <td>3555</td>\n",
       "    </tr>\n",
       "    <tr>\n",
       "      <th>1</th>\n",
       "      <td>11391</td>\n",
       "      <td>AAA</td>\n",
       "      <td>M</td>\n",
       "      <td>N</td>\n",
       "      <td>Pass</td>\n",
       "      <td>82.0</td>\n",
       "      <td>TMA</td>\n",
       "      <td>resource</td>\n",
       "      <td>9</td>\n",
       "      <td>44</td>\n",
       "      <td>3555</td>\n",
       "    </tr>\n",
       "    <tr>\n",
       "      <th>2</th>\n",
       "      <td>11391</td>\n",
       "      <td>AAA</td>\n",
       "      <td>M</td>\n",
       "      <td>N</td>\n",
       "      <td>Pass</td>\n",
       "      <td>82.0</td>\n",
       "      <td>TMA</td>\n",
       "      <td>resource</td>\n",
       "      <td>9</td>\n",
       "      <td>1</td>\n",
       "      <td>3555</td>\n",
       "    </tr>\n",
       "    <tr>\n",
       "      <th>3</th>\n",
       "      <td>11391</td>\n",
       "      <td>AAA</td>\n",
       "      <td>M</td>\n",
       "      <td>N</td>\n",
       "      <td>Pass</td>\n",
       "      <td>82.0</td>\n",
       "      <td>TMA</td>\n",
       "      <td>resource</td>\n",
       "      <td>9</td>\n",
       "      <td>2</td>\n",
       "      <td>3555</td>\n",
       "    </tr>\n",
       "    <tr>\n",
       "      <th>4</th>\n",
       "      <td>11391</td>\n",
       "      <td>AAA</td>\n",
       "      <td>M</td>\n",
       "      <td>N</td>\n",
       "      <td>Pass</td>\n",
       "      <td>82.0</td>\n",
       "      <td>TMA</td>\n",
       "      <td>resource</td>\n",
       "      <td>9</td>\n",
       "      <td>7</td>\n",
       "      <td>3555</td>\n",
       "    </tr>\n",
       "    <tr>\n",
       "      <th>...</th>\n",
       "      <td>...</td>\n",
       "      <td>...</td>\n",
       "      <td>...</td>\n",
       "      <td>...</td>\n",
       "      <td>...</td>\n",
       "      <td>...</td>\n",
       "      <td>...</td>\n",
       "      <td>...</td>\n",
       "      <td>...</td>\n",
       "      <td>...</td>\n",
       "      <td>...</td>\n",
       "    </tr>\n",
       "    <tr>\n",
       "      <th>1017958</th>\n",
       "      <td>693273</td>\n",
       "      <td>GGG</td>\n",
       "      <td>M</td>\n",
       "      <td>N</td>\n",
       "      <td>Fail</td>\n",
       "      <td>68.0</td>\n",
       "      <td>TMA</td>\n",
       "      <td>glossary</td>\n",
       "      <td>14</td>\n",
       "      <td>1</td>\n",
       "      <td>378</td>\n",
       "    </tr>\n",
       "    <tr>\n",
       "      <th>1017959</th>\n",
       "      <td>693273</td>\n",
       "      <td>GGG</td>\n",
       "      <td>M</td>\n",
       "      <td>N</td>\n",
       "      <td>Fail</td>\n",
       "      <td>68.0</td>\n",
       "      <td>TMA</td>\n",
       "      <td>glossary</td>\n",
       "      <td>14</td>\n",
       "      <td>4</td>\n",
       "      <td>378</td>\n",
       "    </tr>\n",
       "    <tr>\n",
       "      <th>1017960</th>\n",
       "      <td>693273</td>\n",
       "      <td>GGG</td>\n",
       "      <td>M</td>\n",
       "      <td>N</td>\n",
       "      <td>Fail</td>\n",
       "      <td>68.0</td>\n",
       "      <td>TMA</td>\n",
       "      <td>glossary</td>\n",
       "      <td>14</td>\n",
       "      <td>2</td>\n",
       "      <td>378</td>\n",
       "    </tr>\n",
       "    <tr>\n",
       "      <th>1017961</th>\n",
       "      <td>693273</td>\n",
       "      <td>GGG</td>\n",
       "      <td>M</td>\n",
       "      <td>N</td>\n",
       "      <td>Fail</td>\n",
       "      <td>68.0</td>\n",
       "      <td>TMA</td>\n",
       "      <td>glossary</td>\n",
       "      <td>14</td>\n",
       "      <td>6</td>\n",
       "      <td>378</td>\n",
       "    </tr>\n",
       "    <tr>\n",
       "      <th>1017962</th>\n",
       "      <td>693273</td>\n",
       "      <td>GGG</td>\n",
       "      <td>M</td>\n",
       "      <td>N</td>\n",
       "      <td>Fail</td>\n",
       "      <td>68.0</td>\n",
       "      <td>TMA</td>\n",
       "      <td>glossary</td>\n",
       "      <td>14</td>\n",
       "      <td>14</td>\n",
       "      <td>378</td>\n",
       "    </tr>\n",
       "  </tbody>\n",
       "</table>\n",
       "<p>1017963 rows × 11 columns</p>\n",
       "</div>"
      ],
      "text/plain": [
       "         id_student code_module gender disability final_result  score  \\\n",
       "0             11391         AAA      M          N         Pass   82.0   \n",
       "1             11391         AAA      M          N         Pass   82.0   \n",
       "2             11391         AAA      M          N         Pass   82.0   \n",
       "3             11391         AAA      M          N         Pass   82.0   \n",
       "4             11391         AAA      M          N         Pass   82.0   \n",
       "...             ...         ...    ...        ...          ...    ...   \n",
       "1017958      693273         GGG      M          N         Fail   68.0   \n",
       "1017959      693273         GGG      M          N         Fail   68.0   \n",
       "1017960      693273         GGG      M          N         Fail   68.0   \n",
       "1017961      693273         GGG      M          N         Fail   68.0   \n",
       "1017962      693273         GGG      M          N         Fail   68.0   \n",
       "\n",
       "        assessment_type activity_type  total_activities  sum_click  \\\n",
       "0                   TMA      resource                 9         16   \n",
       "1                   TMA      resource                 9         44   \n",
       "2                   TMA      resource                 9          1   \n",
       "3                   TMA      resource                 9          2   \n",
       "4                   TMA      resource                 9          7   \n",
       "...                 ...           ...               ...        ...   \n",
       "1017958             TMA      glossary                14          1   \n",
       "1017959             TMA      glossary                14          4   \n",
       "1017960             TMA      glossary                14          2   \n",
       "1017961             TMA      glossary                14          6   \n",
       "1017962             TMA      glossary                14         14   \n",
       "\n",
       "         total_interaction  \n",
       "0                     3555  \n",
       "1                     3555  \n",
       "2                     3555  \n",
       "3                     3555  \n",
       "4                     3555  \n",
       "...                    ...  \n",
       "1017958                378  \n",
       "1017959                378  \n",
       "1017960                378  \n",
       "1017961                378  \n",
       "1017962                378  \n",
       "\n",
       "[1017963 rows x 11 columns]"
      ]
     },
     "execution_count": 3,
     "metadata": {},
     "output_type": "execute_result"
    }
   ],
   "source": [
    "df_model = pd.read_csv('C:/Users/USER/Dwi/dataset/datamaster-real.csv')\n",
    "df_model"
   ]
  },
  {
   "cell_type": "code",
   "execution_count": 4,
   "metadata": {},
   "outputs": [
    {
     "name": "stdout",
     "output_type": "stream",
     "text": [
      "<class 'pandas.core.frame.DataFrame'>\n",
      "RangeIndex: 1017963 entries, 0 to 1017962\n",
      "Data columns (total 10 columns):\n",
      " #   Column             Non-Null Count    Dtype  \n",
      "---  ------             --------------    -----  \n",
      " 0   code_module        1017963 non-null  object \n",
      " 1   gender             1017963 non-null  object \n",
      " 2   disability         1017963 non-null  object \n",
      " 3   final_result       1017963 non-null  object \n",
      " 4   score              1017963 non-null  float64\n",
      " 5   assessment_type    1017963 non-null  object \n",
      " 6   activity_type      1017963 non-null  object \n",
      " 7   total_activities   1017963 non-null  int64  \n",
      " 8   sum_click          1017963 non-null  int64  \n",
      " 9   total_interaction  1017963 non-null  int64  \n",
      "dtypes: float64(1), int64(3), object(6)\n",
      "memory usage: 77.7+ MB\n"
     ]
    }
   ],
   "source": [
    "df_model = df_model.drop('id_student', axis=1)\n",
    "df_model.info()"
   ]
  },
  {
   "cell_type": "code",
   "execution_count": 5,
   "metadata": {},
   "outputs": [
    {
     "name": "stdout",
     "output_type": "stream",
     "text": [
      "Categorical columns           : ['code_module', 'gender', 'disability', 'final_result', 'assessment_type', 'activity_type']\n",
      "Categorical columns position  : [0, 1, 2, 3, 5, 6]\n"
     ]
    }
   ],
   "source": [
    "# Get the position of categorical columns\n",
    "catColumnsPos = [df_model.columns.get_loc(col) for col in list(df_model.select_dtypes('object').columns)]\n",
    "print('Categorical columns           : {}'.format(list(df_model.select_dtypes('object').columns)))\n",
    "print('Categorical columns position  : {}'.format(catColumnsPos))"
   ]
  },
  {
   "cell_type": "code",
   "execution_count": 6,
   "metadata": {},
   "outputs": [
    {
     "name": "stdout",
     "output_type": "stream",
     "text": [
      "numerical columns           : ['total_activities', 'sum_click', 'total_interaction']\n",
      "numerical columns position  : [7, 8, 9]\n"
     ]
    }
   ],
   "source": [
    "# Get the position of numerical columns\n",
    "numColumnsPos = [df_model.columns.get_loc(col) for col in list(df_model.select_dtypes('int64').columns)]\n",
    "print('numerical columns           : {}'.format(list(df_model.select_dtypes('int64').columns)))\n",
    "print('numerical columns position  : {}'.format(numColumnsPos))"
   ]
  },
  {
   "cell_type": "markdown",
   "metadata": {},
   "source": [
    "## Elbow & KneeLocator"
   ]
  },
  {
   "cell_type": "code",
   "execution_count": 12,
   "metadata": {},
   "outputs": [
    {
     "data": {
      "application/vnd.jupyter.widget-view+json": {
       "model_id": "d0a17da81db7415390f8bece2f695b7a",
       "version_major": 2,
       "version_minor": 0
      },
      "text/plain": [
       "  0%|          | 0/9 [00:00<?, ?it/s]"
      ]
     },
     "metadata": {},
     "output_type": "display_data"
    },
    {
     "name": "stdout",
     "output_type": "stream",
     "text": [
      "Initialization method and algorithm are deterministic. Setting n_init to 1.\n",
      "Best run was number 1\n",
      "Initialization method and algorithm are deterministic. Setting n_init to 1.\n",
      "Best run was number 1\n",
      "Initialization method and algorithm are deterministic. Setting n_init to 1.\n",
      "Best run was number 1\n",
      "Initialization method and algorithm are deterministic. Setting n_init to 1.\n",
      "Best run was number 1\n",
      "Initialization method and algorithm are deterministic. Setting n_init to 1.\n",
      "Best run was number 10\n",
      "Initialization method and algorithm are deterministic. Setting n_init to 1.\n",
      "Best run was number 10\n",
      "Initialization method and algorithm are deterministic. Setting n_init to 1.\n",
      "Best run was number 1\n",
      "Initialization method and algorithm are deterministic. Setting n_init to 1.\n",
      "Best run was number 5\n",
      "Initialization method and algorithm are deterministic. Setting n_init to 1.\n",
      "Best run was number 1\n",
      "cost (sum distance) for all k:\n",
      "1 : 942228990704124.750\n",
      "2 : 499265954346330.938\n",
      "3 : 209956000089344.406\n",
      "4 : 97257843403428.844\n",
      "5 : 48606119280153.805\n",
      "6 : 33075008688351.027\n",
      "7 : 23215316878730.000\n",
      "8 : 18722041243984.609\n",
      "9 : 16044113452300.164\n"
     ]
    }
   ],
   "source": [
    "cost = {}\n",
    "for k in tqdm(range(1, 10)):\n",
    "    kproto = KPrototypes(n_clusters = k, init = 'Cao', n_jobs = 4, verbose = 2, random_state = 0)\n",
    "    res = kproto.fit_predict(df_model, categorical = catColumnsPos)\n",
    "    cost[k] = kproto.cost_\n",
    "\n",
    "print(\"cost (sum distance) for all k:\")\n",
    "_ = [print(k,\":\",f'{v:.3f}') for k, v in cost.items()]"
   ]
  },
  {
   "cell_type": "code",
   "execution_count": 13,
   "metadata": {},
   "outputs": [
    {
     "data": {
      "text/plain": [
       "Text(0, 0.5, 'cost')"
      ]
     },
     "execution_count": 13,
     "metadata": {},
     "output_type": "execute_result"
    },
    {
     "data": {
      "image/png": "[encoded data removed]",
      "text/plain": [
       "<Figure size 576x360 with 1 Axes>"
      ]
     },
     "metadata": {
      "needs_background": "light"
     },
     "output_type": "display_data"
    }
   ],
   "source": [
    "# scree plot: look for elbow\n",
    "plt.figure(figsize=[8,5])\n",
    "plt.plot(cost.keys(), cost.values(), color=\"blue\")\n",
    "plt.title(\"cost (sum distance) vs. number of clusters\")\n",
    "plt.xticks(np.arange(2,10,1))\n",
    "plt.xlabel(\"number of clusters K\")\n",
    "plt.ylabel(\"cost\")"
   ]
  },
  {
   "cell_type": "code",
   "execution_count": 14,
   "metadata": {},
   "outputs": [
    {
     "name": "stdout",
     "output_type": "stream",
     "text": [
      "Elbow at k = 3 clusters\n"
     ]
    }
   ],
   "source": [
    "# Confirm visual clue of elbow plot\n",
    "# KneeLocator class will detect elbows if curve is convex; if concave, will detect knees\n",
    "\n",
    "cost_knee = KneeLocator(\n",
    "        x=list(cost.keys()), \n",
    "        y=list(cost.values()), \n",
    "        S=0.1, curve=\"convex\", direction=\"decreasing\", online=True)\n",
    "\n",
    "K_cost = cost_knee.elbow   \n",
    "print(\"Elbow at k =\", f'{K_cost:.0f} clusters')"
   ]
  },
  {
   "cell_type": "markdown",
   "metadata": {},
   "source": [
    "## Data Normalization"
   ]
  },
  {
   "cell_type": "code",
   "execution_count": 2,
   "metadata": {},
   "outputs": [
    {
     "data": {
      "text/html": [
       "<div>\n",
       "<style scoped>\n",
       "    .dataframe tbody tr th:only-of-type {\n",
       "        vertical-align: middle;\n",
       "    }\n",
       "\n",
       "    .dataframe tbody tr th {\n",
       "        vertical-align: top;\n",
       "    }\n",
       "\n",
       "    .dataframe thead th {\n",
       "        text-align: right;\n",
       "    }\n",
       "</style>\n",
       "<table border=\"1\" class=\"dataframe\">\n",
       "  <thead>\n",
       "    <tr style=\"text-align: right;\">\n",
       "      <th></th>\n",
       "      <th>Unnamed: 0</th>\n",
       "      <th>code_module</th>\n",
       "      <th>gender</th>\n",
       "      <th>disability</th>\n",
       "      <th>final_result</th>\n",
       "      <th>assessment_type</th>\n",
       "      <th>activity_type</th>\n",
       "      <th>score</th>\n",
       "      <th>total_activities</th>\n",
       "      <th>sum_click</th>\n",
       "      <th>total_interaction</th>\n",
       "    </tr>\n",
       "  </thead>\n",
       "  <tbody>\n",
       "    <tr>\n",
       "      <th>0</th>\n",
       "      <td>0</td>\n",
       "      <td>0</td>\n",
       "      <td>1</td>\n",
       "      <td>0</td>\n",
       "      <td>1</td>\n",
       "      <td>1</td>\n",
       "      <td>16</td>\n",
       "      <td>0.800288</td>\n",
       "      <td>-2.030361</td>\n",
       "      <td>-0.165894</td>\n",
       "      <td>-0.698245</td>\n",
       "    </tr>\n",
       "    <tr>\n",
       "      <th>1</th>\n",
       "      <td>1</td>\n",
       "      <td>0</td>\n",
       "      <td>1</td>\n",
       "      <td>0</td>\n",
       "      <td>1</td>\n",
       "      <td>1</td>\n",
       "      <td>16</td>\n",
       "      <td>0.800288</td>\n",
       "      <td>-2.030361</td>\n",
       "      <td>0.572853</td>\n",
       "      <td>-0.698245</td>\n",
       "    </tr>\n",
       "    <tr>\n",
       "      <th>2</th>\n",
       "      <td>2</td>\n",
       "      <td>0</td>\n",
       "      <td>1</td>\n",
       "      <td>0</td>\n",
       "      <td>1</td>\n",
       "      <td>1</td>\n",
       "      <td>16</td>\n",
       "      <td>0.800288</td>\n",
       "      <td>-2.030361</td>\n",
       "      <td>-0.561651</td>\n",
       "      <td>-0.698245</td>\n",
       "    </tr>\n",
       "    <tr>\n",
       "      <th>3</th>\n",
       "      <td>3</td>\n",
       "      <td>0</td>\n",
       "      <td>1</td>\n",
       "      <td>0</td>\n",
       "      <td>1</td>\n",
       "      <td>1</td>\n",
       "      <td>16</td>\n",
       "      <td>0.800288</td>\n",
       "      <td>-2.030361</td>\n",
       "      <td>-0.535267</td>\n",
       "      <td>-0.698245</td>\n",
       "    </tr>\n",
       "    <tr>\n",
       "      <th>4</th>\n",
       "      <td>4</td>\n",
       "      <td>0</td>\n",
       "      <td>1</td>\n",
       "      <td>0</td>\n",
       "      <td>1</td>\n",
       "      <td>1</td>\n",
       "      <td>16</td>\n",
       "      <td>0.800288</td>\n",
       "      <td>-2.030361</td>\n",
       "      <td>-0.403348</td>\n",
       "      <td>-0.698245</td>\n",
       "    </tr>\n",
       "    <tr>\n",
       "      <th>...</th>\n",
       "      <td>...</td>\n",
       "      <td>...</td>\n",
       "      <td>...</td>\n",
       "      <td>...</td>\n",
       "      <td>...</td>\n",
       "      <td>...</td>\n",
       "      <td>...</td>\n",
       "      <td>...</td>\n",
       "      <td>...</td>\n",
       "      <td>...</td>\n",
       "      <td>...</td>\n",
       "    </tr>\n",
       "    <tr>\n",
       "      <th>1017958</th>\n",
       "      <td>1017958</td>\n",
       "      <td>6</td>\n",
       "      <td>1</td>\n",
       "      <td>0</td>\n",
       "      <td>0</td>\n",
       "      <td>1</td>\n",
       "      <td>5</td>\n",
       "      <td>0.197043</td>\n",
       "      <td>-1.477412</td>\n",
       "      <td>-0.561651</td>\n",
       "      <td>-0.802672</td>\n",
       "    </tr>\n",
       "    <tr>\n",
       "      <th>1017959</th>\n",
       "      <td>1017959</td>\n",
       "      <td>6</td>\n",
       "      <td>1</td>\n",
       "      <td>0</td>\n",
       "      <td>0</td>\n",
       "      <td>1</td>\n",
       "      <td>5</td>\n",
       "      <td>0.197043</td>\n",
       "      <td>-1.477412</td>\n",
       "      <td>-0.482500</td>\n",
       "      <td>-0.802672</td>\n",
       "    </tr>\n",
       "    <tr>\n",
       "      <th>1017960</th>\n",
       "      <td>1017960</td>\n",
       "      <td>6</td>\n",
       "      <td>1</td>\n",
       "      <td>0</td>\n",
       "      <td>0</td>\n",
       "      <td>1</td>\n",
       "      <td>5</td>\n",
       "      <td>0.197043</td>\n",
       "      <td>-1.477412</td>\n",
       "      <td>-0.535267</td>\n",
       "      <td>-0.802672</td>\n",
       "    </tr>\n",
       "    <tr>\n",
       "      <th>1017961</th>\n",
       "      <td>1017961</td>\n",
       "      <td>6</td>\n",
       "      <td>1</td>\n",
       "      <td>0</td>\n",
       "      <td>0</td>\n",
       "      <td>1</td>\n",
       "      <td>5</td>\n",
       "      <td>0.197043</td>\n",
       "      <td>-1.477412</td>\n",
       "      <td>-0.429732</td>\n",
       "      <td>-0.802672</td>\n",
       "    </tr>\n",
       "    <tr>\n",
       "      <th>1017962</th>\n",
       "      <td>1017962</td>\n",
       "      <td>6</td>\n",
       "      <td>1</td>\n",
       "      <td>0</td>\n",
       "      <td>0</td>\n",
       "      <td>1</td>\n",
       "      <td>5</td>\n",
       "      <td>0.197043</td>\n",
       "      <td>-1.477412</td>\n",
       "      <td>-0.218661</td>\n",
       "      <td>-0.802672</td>\n",
       "    </tr>\n",
       "  </tbody>\n",
       "</table>\n",
       "<p>1017963 rows × 11 columns</p>\n",
       "</div>"
      ],
      "text/plain": [
       "         Unnamed: 0  code_module  gender  disability  final_result  \\\n",
       "0                 0            0       1           0             1   \n",
       "1                 1            0       1           0             1   \n",
       "2                 2            0       1           0             1   \n",
       "3                 3            0       1           0             1   \n",
       "4                 4            0       1           0             1   \n",
       "...             ...          ...     ...         ...           ...   \n",
       "1017958     1017958            6       1           0             0   \n",
       "1017959     1017959            6       1           0             0   \n",
       "1017960     1017960            6       1           0             0   \n",
       "1017961     1017961            6       1           0             0   \n",
       "1017962     1017962            6       1           0             0   \n",
       "\n",
       "         assessment_type  activity_type     score  total_activities  \\\n",
       "0                      1             16  0.800288         -2.030361   \n",
       "1                      1             16  0.800288         -2.030361   \n",
       "2                      1             16  0.800288         -2.030361   \n",
       "3                      1             16  0.800288         -2.030361   \n",
       "4                      1             16  0.800288         -2.030361   \n",
       "...                  ...            ...       ...               ...   \n",
       "1017958                1              5  0.197043         -1.477412   \n",
       "1017959                1              5  0.197043         -1.477412   \n",
       "1017960                1              5  0.197043         -1.477412   \n",
       "1017961                1              5  0.197043         -1.477412   \n",
       "1017962                1              5  0.197043         -1.477412   \n",
       "\n",
       "         sum_click  total_interaction  \n",
       "0        -0.165894          -0.698245  \n",
       "1         0.572853          -0.698245  \n",
       "2        -0.561651          -0.698245  \n",
       "3        -0.535267          -0.698245  \n",
       "4        -0.403348          -0.698245  \n",
       "...            ...                ...  \n",
       "1017958  -0.561651          -0.802672  \n",
       "1017959  -0.482500          -0.802672  \n",
       "1017960  -0.535267          -0.802672  \n",
       "1017961  -0.429732          -0.802672  \n",
       "1017962  -0.218661          -0.802672  \n",
       "\n",
       "[1017963 rows x 11 columns]"
      ]
     },
     "execution_count": 2,
     "metadata": {},
     "output_type": "execute_result"
    }
   ],
   "source": [
    "df_scale = pd.read_csv('C:/Users/USER/Dwi/dataset/datamaster-edit.csv')\n",
    "df_scale"
   ]
  },
  {
   "cell_type": "code",
   "execution_count": 3,
   "metadata": {},
   "outputs": [
    {
     "name": "stdout",
     "output_type": "stream",
     "text": [
      "<class 'pandas.core.frame.DataFrame'>\n",
      "RangeIndex: 1017963 entries, 0 to 1017962\n",
      "Data columns (total 10 columns):\n",
      " #   Column             Non-Null Count    Dtype  \n",
      "---  ------             --------------    -----  \n",
      " 0   code_module        1017963 non-null  int64  \n",
      " 1   gender             1017963 non-null  int64  \n",
      " 2   disability         1017963 non-null  int64  \n",
      " 3   final_result       1017963 non-null  int64  \n",
      " 4   assessment_type    1017963 non-null  int64  \n",
      " 5   activity_type      1017963 non-null  int64  \n",
      " 6   score              1017963 non-null  float64\n",
      " 7   total_activities   1017963 non-null  float64\n",
      " 8   sum_click          1017963 non-null  float64\n",
      " 9   total_interaction  1017963 non-null  float64\n",
      "dtypes: float64(4), int64(6)\n",
      "memory usage: 77.7 MB\n"
     ]
    }
   ],
   "source": [
    "df_scale = df_scale.drop('Unnamed: 0', axis=1)\n",
    "df_scale.info()"
   ]
  },
  {
   "cell_type": "code",
   "execution_count": 4,
   "metadata": {},
   "outputs": [],
   "source": [
    "cluster_columns = ['code_module', 'gender', 'disability', 'final_result', 'assessment_type', 'activity_type', 'score', 'total_activities', 'sum_click', 'total_interaction']\n",
    "df_scale = df_scale[cluster_columns]"
   ]
  },
  {
   "cell_type": "code",
   "execution_count": 5,
   "metadata": {},
   "outputs": [],
   "source": [
    "# define numerical and categorical columns\n",
    "numerical_columns = ['score', 'total_activities', 'sum_click', 'total_interaction']\n",
    "categorical_columns = ['code_module', 'gender', 'disability', 'final_result', 'assessment_type', 'activity_type']"
   ]
  },
  {
   "cell_type": "code",
   "execution_count": 6,
   "metadata": {},
   "outputs": [
    {
     "data": {
      "text/html": [
       "<div>\n",
       "<style scoped>\n",
       "    .dataframe tbody tr th:only-of-type {\n",
       "        vertical-align: middle;\n",
       "    }\n",
       "\n",
       "    .dataframe tbody tr th {\n",
       "        vertical-align: top;\n",
       "    }\n",
       "\n",
       "    .dataframe thead th {\n",
       "        text-align: right;\n",
       "    }\n",
       "</style>\n",
       "<table border=\"1\" class=\"dataframe\">\n",
       "  <thead>\n",
       "    <tr style=\"text-align: right;\">\n",
       "      <th></th>\n",
       "      <th>code_module</th>\n",
       "      <th>gender</th>\n",
       "      <th>disability</th>\n",
       "      <th>final_result</th>\n",
       "      <th>assessment_type</th>\n",
       "      <th>activity_type</th>\n",
       "      <th>score</th>\n",
       "      <th>total_activities</th>\n",
       "      <th>sum_click</th>\n",
       "      <th>total_interaction</th>\n",
       "    </tr>\n",
       "  </thead>\n",
       "  <tbody>\n",
       "    <tr>\n",
       "      <th>0</th>\n",
       "      <td>0</td>\n",
       "      <td>1</td>\n",
       "      <td>0</td>\n",
       "      <td>1</td>\n",
       "      <td>1</td>\n",
       "      <td>16</td>\n",
       "      <td>0.800288</td>\n",
       "      <td>-2.030361</td>\n",
       "      <td>-0.165894</td>\n",
       "      <td>-0.698245</td>\n",
       "    </tr>\n",
       "    <tr>\n",
       "      <th>1</th>\n",
       "      <td>0</td>\n",
       "      <td>1</td>\n",
       "      <td>0</td>\n",
       "      <td>1</td>\n",
       "      <td>1</td>\n",
       "      <td>16</td>\n",
       "      <td>0.800288</td>\n",
       "      <td>-2.030361</td>\n",
       "      <td>0.572853</td>\n",
       "      <td>-0.698245</td>\n",
       "    </tr>\n",
       "    <tr>\n",
       "      <th>2</th>\n",
       "      <td>0</td>\n",
       "      <td>1</td>\n",
       "      <td>0</td>\n",
       "      <td>1</td>\n",
       "      <td>1</td>\n",
       "      <td>16</td>\n",
       "      <td>0.800288</td>\n",
       "      <td>-2.030361</td>\n",
       "      <td>-0.561651</td>\n",
       "      <td>-0.698245</td>\n",
       "    </tr>\n",
       "    <tr>\n",
       "      <th>3</th>\n",
       "      <td>0</td>\n",
       "      <td>1</td>\n",
       "      <td>0</td>\n",
       "      <td>1</td>\n",
       "      <td>1</td>\n",
       "      <td>16</td>\n",
       "      <td>0.800288</td>\n",
       "      <td>-2.030361</td>\n",
       "      <td>-0.535267</td>\n",
       "      <td>-0.698245</td>\n",
       "    </tr>\n",
       "    <tr>\n",
       "      <th>4</th>\n",
       "      <td>0</td>\n",
       "      <td>1</td>\n",
       "      <td>0</td>\n",
       "      <td>1</td>\n",
       "      <td>1</td>\n",
       "      <td>16</td>\n",
       "      <td>0.800288</td>\n",
       "      <td>-2.030361</td>\n",
       "      <td>-0.403348</td>\n",
       "      <td>-0.698245</td>\n",
       "    </tr>\n",
       "  </tbody>\n",
       "</table>\n",
       "</div>"
      ],
      "text/plain": [
       "   code_module  gender  disability  final_result  assessment_type  \\\n",
       "0            0       1           0             1                1   \n",
       "1            0       1           0             1                1   \n",
       "2            0       1           0             1                1   \n",
       "3            0       1           0             1                1   \n",
       "4            0       1           0             1                1   \n",
       "\n",
       "   activity_type     score  total_activities  sum_click  total_interaction  \n",
       "0             16  0.800288         -2.030361  -0.165894          -0.698245  \n",
       "1             16  0.800288         -2.030361   0.572853          -0.698245  \n",
       "2             16  0.800288         -2.030361  -0.561651          -0.698245  \n",
       "3             16  0.800288         -2.030361  -0.535267          -0.698245  \n",
       "4             16  0.800288         -2.030361  -0.403348          -0.698245  "
      ]
     },
     "execution_count": 6,
     "metadata": {},
     "output_type": "execute_result"
    }
   ],
   "source": [
    "df_scale.head()"
   ]
  },
  {
   "cell_type": "code",
   "execution_count": 7,
   "metadata": {},
   "outputs": [
    {
     "data": {
      "text/plain": [
       "[0, 1, 2, 3, 4, 5]"
      ]
     },
     "execution_count": 7,
     "metadata": {},
     "output_type": "execute_result"
    }
   ],
   "source": [
    "categorical_indexes = []\n",
    "for c in categorical_columns:\n",
    "    categorical_indexes.append(df_scale.columns.get_loc(c))\n",
    "categorical_indexes"
   ]
  },
  {
   "cell_type": "markdown",
   "metadata": {},
   "source": [
    "## Silhouette Coefficient"
   ]
  },
  {
   "cell_type": "code",
   "execution_count": 14,
   "metadata": {},
   "outputs": [
    {
     "name": "stdout",
     "output_type": "stream",
     "text": [
      "Initialization method and algorithm are deterministic. Setting n_init to 1.\n",
      "Best run was number 10\n",
      "Initialization method and algorithm are deterministic. Setting n_init to 1.\n",
      "Best run was number 7\n",
      "Initialization method and algorithm are deterministic. Setting n_init to 1.\n",
      "Best run was number 4\n",
      "Initialization method and algorithm are deterministic. Setting n_init to 1.\n",
      "Best run was number 2\n",
      "Initialization method and algorithm are deterministic. Setting n_init to 1.\n",
      "Best run was number 8\n",
      "Initialization method and algorithm are deterministic. Setting n_init to 1.\n",
      "Best run was number 4\n",
      "Initialization method and algorithm are deterministic. Setting n_init to 1.\n",
      "Best run was number 6\n",
      "Initialization method and algorithm are deterministic. Setting n_init to 1.\n",
      "Best run was number 3\n",
      "Initialization method and algorithm are deterministic. Setting n_init to 1.\n",
      "Best run was number 3\n"
     ]
    },
    {
     "data": {
      "text/plain": [
       "Text(0, 0.5, 'score')"
      ]
     },
     "execution_count": 14,
     "metadata": {},
     "output_type": "execute_result"
    },
    {
     "data": {
      "image/png": "[encoded data removed]",
      "text/plain": [
       "<Figure size 432x288 with 1 Axes>"
      ]
     },
     "metadata": {
      "needs_background": "light"
     },
     "output_type": "display_data"
    }
   ],
   "source": [
    "num_clusters = list(range(2, 11))\n",
    "silhouette_avg = []\n",
    "# calculate average silhouette score for each number of cluster (2 to 10)\n",
    "for k in num_clusters:\n",
    "    kproto = KPrototypes(n_clusters = k, init = 'Cao', n_jobs = 4, verbose = 2, random_state = 0)\n",
    "    kproto.fit_predict(df_scale, categorical= categorical_indexes)\n",
    "    cluster_labels = kproto.labels_\n",
    "    silhouette_avg.append(silhouette_score(df_scale, cluster_labels))\n",
    "    \n",
    "# plot average silhouette score against number of clusters\n",
    "ax = sns.lineplot(x=num_clusters, y=silhouette_avg, marker=\"o\")\n",
    "ax.set_title('Average Silhouette', fontsize=14)\n",
    "ax.set_xlabel('No of clusters', fontsize=11)\n",
    "ax.set_ylabel('score', fontsize=11)"
   ]
  },
  {
   "cell_type": "markdown",
   "metadata": {},
   "source": [
    "## Silhouette V1"
   ]
  },
  {
   "cell_type": "code",
   "execution_count": 30,
   "metadata": {},
   "outputs": [
    {
     "data": {
      "application/vnd.jupyter.widget-view+json": {
       "model_id": "548578f5997c489d9ff1ad015430eae7",
       "version_major": 2,
       "version_minor": 0
      },
      "text/plain": [
       "  0%|          | 0/9 [00:00<?, ?it/s]"
      ]
     },
     "metadata": {},
     "output_type": "display_data"
    },
    {
     "name": "stdout",
     "output_type": "stream",
     "text": [
      "Initialization method and algorithm are deterministic. Setting n_init to 1.\n",
      "Best run was number 10\n",
      "Initialization method and algorithm are deterministic. Setting n_init to 1.\n",
      "Best run was number 7\n",
      "Initialization method and algorithm are deterministic. Setting n_init to 1.\n",
      "Best run was number 4\n",
      "Initialization method and algorithm are deterministic. Setting n_init to 1.\n",
      "Best run was number 2\n",
      "Initialization method and algorithm are deterministic. Setting n_init to 1.\n",
      "Best run was number 8\n",
      "Initialization method and algorithm are deterministic. Setting n_init to 1.\n",
      "Best run was number 4\n",
      "Initialization method and algorithm are deterministic. Setting n_init to 1.\n",
      "Best run was number 6\n",
      "Initialization method and algorithm are deterministic. Setting n_init to 1.\n",
      "Best run was number 3\n",
      "Initialization method and algorithm are deterministic. Setting n_init to 1.\n",
      "Best run was number 3\n"
     ]
    }
   ],
   "source": [
    "from sklearn.metrics import silhouette_score\n",
    "silhouette_avg = {}\n",
    "for k in tqdm(range(2, 11)):\n",
    "    kproto = KPrototypes(n_clusters = k, init = 'Cao', n_jobs = 4, verbose = 2, random_state = 0)\n",
    "    res = kproto.fit_predict(df_scale, categorical = categorical_indexes)\n",
    "    cluster_labels = kproto.labels_\n",
    "    silhouette_avg[k] = silhouette_score(df_scale, cluster_labels)"
   ]
  },
  {
   "cell_type": "code",
   "execution_count": 31,
   "metadata": {},
   "outputs": [
    {
     "name": "stdout",
     "output_type": "stream",
     "text": [
      "average silhouette for all k:\n",
      "2 : 0.117\n",
      "3 : 0.065\n",
      "4 : 0.066\n",
      "5 : 0.031\n",
      "6 : 0.031\n",
      "7 : 0.025\n",
      "8 : 0.026\n",
      "9 : 0.012\n",
      "10 : 0.013\n"
     ]
    }
   ],
   "source": [
    "print(\"average silhouette for all k:\")\n",
    "_ = [print(k,\":\",f'{v:.3f}') for k, v in silhouette_avg.items()]"
   ]
  },
  {
   "cell_type": "code",
   "execution_count": 32,
   "metadata": {},
   "outputs": [
    {
     "data": {
      "text/plain": [
       "Text(0, 0.5, 'average silhouette')"
      ]
     },
     "execution_count": 32,
     "metadata": {},
     "output_type": "execute_result"
    },
    {
     "data": {
      "image/png": "[encoded data removed]",
      "text/plain": [
       "<Figure size 576x360 with 1 Axes>"
      ]
     },
     "metadata": {
      "needs_background": "light"
     },
     "output_type": "display_data"
    }
   ],
   "source": [
    "# scree plot: look for silhouette\n",
    "plt.figure(figsize=[8,5])\n",
    "plt.plot(silhouette_avg.keys(), silhouette_avg.values(), color=\"green\")\n",
    "plt.title(\"average silhouette vs. number of clusters\")\n",
    "plt.xticks(np.arange(2,10,1))\n",
    "plt.xlabel(\"number of clusters K\")\n",
    "plt.ylabel(\"average silhouette\")"
   ]
  },
  {
   "cell_type": "markdown",
   "metadata": {},
   "source": [
    "## Silhouette V3"
   ]
  },
  {
   "cell_type": "code",
   "execution_count": null,
   "metadata": {},
   "outputs": [
    {
     "data": {
      "application/vnd.jupyter.widget-view+json": {
       "model_id": "d3a2d291e1f146acaa65b8ce9d9d2ea1",
       "version_major": 2,
       "version_minor": 0
      },
      "text/plain": [
       "  0%|          | 0/6 [00:00<?, ?it/s]"
      ]
     },
     "metadata": {},
     "output_type": "display_data"
    }
   ],
   "source": [
    "from sklearn.metrics import silhouette_score\n",
    "silhouette_avg = {}\n",
    "for k in tqdm(range(2, 8)):\n",
    "    kproto = KPrototypes(n_clusters = k, init = 'Huang', n_init = 25, random_state=42)\n",
    "    res = kproto.fit_predict(df_scale, categorical = categorical_indexes)\n",
    "    cluster_labels = kproto.labels_\n",
    "    silhouette_avg[k] = silhouette_score(df_scale, cluster_labels)\n",
    "\n",
    "print(\"average silhouette for all k:\")\n",
    "_ = [print(k,\":\",f'{v:.3f}') for k, v in silhouette_avg.items()]\n",
    "\n",
    "# scree plot: look for silhouette\n",
    "plt.figure(figsize=[8,5])\n",
    "plt.plot(silhouette_avg.keys(), silhouette_avg.values(), color=\"green\")\n",
    "plt.title(\"average silhouette vs. number of clusters\")\n",
    "plt.xticks(np.arange(2,10,1))\n",
    "plt.xlabel(\"number of clusters K\")\n",
    "plt.ylabel(\"average silhouette\")"
   ]
  },
  {
   "cell_type": "code",
   "execution_count": null,
   "metadata": {},
   "outputs": [],
   "source": []
  },
  {
   "cell_type": "code",
   "execution_count": null,
   "metadata": {},
   "outputs": [],
   "source": []
  },
  {
   "cell_type": "code",
   "execution_count": null,
   "metadata": {},
   "outputs": [],
   "source": []
  }
 ],
 "metadata": {
  "kernelspec": {
   "display_name": "Python 3",
   "language": "python",
   "name": "python3"
  },
  "language_info": {
   "codemirror_mode": {
    "name": "ipython",
    "version": 3
   },
   "file_extension": ".py",
   "mimetype": "text/x-python",
   "name": "python",
   "nbconvert_exporter": "python",
   "pygments_lexer": "ipython3",
   "version": "3.8.5"
  }
 },
 "nbformat": 4,
 "nbformat_minor": 4
}
