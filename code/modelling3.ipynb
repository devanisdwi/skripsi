{
 "cells": [
  {
   "cell_type": "code",
   "execution_count": 2,
   "metadata": {},
   "outputs": [],
   "source": [
    "from kmodes.kmodes import KModes\n",
    "from kmodes.kprototypes import KPrototypes\n",
    "from kneed import KneeLocator\n",
    "from tqdm.auto import tqdm\n",
    "import pandas as pd\n",
    "import pickle\n",
    "import numpy as np\n",
    "import seaborn as sns\n",
    "import matplotlib.pyplot as plt"
   ]
  },
  {
   "cell_type": "code",
   "execution_count": 3,
   "metadata": {},
   "outputs": [
    {
     "data": {
      "text/html": [
       "<div>\n",
       "<style scoped>\n",
       "    .dataframe tbody tr th:only-of-type {\n",
       "        vertical-align: middle;\n",
       "    }\n",
       "\n",
       "    .dataframe tbody tr th {\n",
       "        vertical-align: top;\n",
       "    }\n",
       "\n",
       "    .dataframe thead th {\n",
       "        text-align: right;\n",
       "    }\n",
       "</style>\n",
       "<table border=\"1\" class=\"dataframe\">\n",
       "  <thead>\n",
       "    <tr style=\"text-align: right;\">\n",
       "      <th></th>\n",
       "      <th>id_student</th>\n",
       "      <th>code_module</th>\n",
       "      <th>gender</th>\n",
       "      <th>disability</th>\n",
       "      <th>final_result</th>\n",
       "      <th>score</th>\n",
       "      <th>assessment_type</th>\n",
       "      <th>activity_type</th>\n",
       "      <th>total_activities</th>\n",
       "      <th>sum_click</th>\n",
       "      <th>total_interaction</th>\n",
       "    </tr>\n",
       "  </thead>\n",
       "  <tbody>\n",
       "    <tr>\n",
       "      <th>0</th>\n",
       "      <td>11391</td>\n",
       "      <td>AAA</td>\n",
       "      <td>M</td>\n",
       "      <td>N</td>\n",
       "      <td>Pass</td>\n",
       "      <td>82.0</td>\n",
       "      <td>TMA</td>\n",
       "      <td>resource</td>\n",
       "      <td>9</td>\n",
       "      <td>16</td>\n",
       "      <td>3555</td>\n",
       "    </tr>\n",
       "    <tr>\n",
       "      <th>1</th>\n",
       "      <td>11391</td>\n",
       "      <td>AAA</td>\n",
       "      <td>M</td>\n",
       "      <td>N</td>\n",
       "      <td>Pass</td>\n",
       "      <td>82.0</td>\n",
       "      <td>TMA</td>\n",
       "      <td>resource</td>\n",
       "      <td>9</td>\n",
       "      <td>44</td>\n",
       "      <td>3555</td>\n",
       "    </tr>\n",
       "    <tr>\n",
       "      <th>2</th>\n",
       "      <td>11391</td>\n",
       "      <td>AAA</td>\n",
       "      <td>M</td>\n",
       "      <td>N</td>\n",
       "      <td>Pass</td>\n",
       "      <td>82.0</td>\n",
       "      <td>TMA</td>\n",
       "      <td>resource</td>\n",
       "      <td>9</td>\n",
       "      <td>1</td>\n",
       "      <td>3555</td>\n",
       "    </tr>\n",
       "    <tr>\n",
       "      <th>3</th>\n",
       "      <td>11391</td>\n",
       "      <td>AAA</td>\n",
       "      <td>M</td>\n",
       "      <td>N</td>\n",
       "      <td>Pass</td>\n",
       "      <td>82.0</td>\n",
       "      <td>TMA</td>\n",
       "      <td>resource</td>\n",
       "      <td>9</td>\n",
       "      <td>2</td>\n",
       "      <td>3555</td>\n",
       "    </tr>\n",
       "    <tr>\n",
       "      <th>4</th>\n",
       "      <td>11391</td>\n",
       "      <td>AAA</td>\n",
       "      <td>M</td>\n",
       "      <td>N</td>\n",
       "      <td>Pass</td>\n",
       "      <td>82.0</td>\n",
       "      <td>TMA</td>\n",
       "      <td>resource</td>\n",
       "      <td>9</td>\n",
       "      <td>7</td>\n",
       "      <td>3555</td>\n",
       "    </tr>\n",
       "    <tr>\n",
       "      <th>...</th>\n",
       "      <td>...</td>\n",
       "      <td>...</td>\n",
       "      <td>...</td>\n",
       "      <td>...</td>\n",
       "      <td>...</td>\n",
       "      <td>...</td>\n",
       "      <td>...</td>\n",
       "      <td>...</td>\n",
       "      <td>...</td>\n",
       "      <td>...</td>\n",
       "      <td>...</td>\n",
       "    </tr>\n",
       "    <tr>\n",
       "      <th>1017958</th>\n",
       "      <td>693273</td>\n",
       "      <td>GGG</td>\n",
       "      <td>M</td>\n",
       "      <td>N</td>\n",
       "      <td>Fail</td>\n",
       "      <td>68.0</td>\n",
       "      <td>TMA</td>\n",
       "      <td>glossary</td>\n",
       "      <td>14</td>\n",
       "      <td>1</td>\n",
       "      <td>378</td>\n",
       "    </tr>\n",
       "    <tr>\n",
       "      <th>1017959</th>\n",
       "      <td>693273</td>\n",
       "      <td>GGG</td>\n",
       "      <td>M</td>\n",
       "      <td>N</td>\n",
       "      <td>Fail</td>\n",
       "      <td>68.0</td>\n",
       "      <td>TMA</td>\n",
       "      <td>glossary</td>\n",
       "      <td>14</td>\n",
       "      <td>4</td>\n",
       "      <td>378</td>\n",
       "    </tr>\n",
       "    <tr>\n",
       "      <th>1017960</th>\n",
       "      <td>693273</td>\n",
       "      <td>GGG</td>\n",
       "      <td>M</td>\n",
       "      <td>N</td>\n",
       "      <td>Fail</td>\n",
       "      <td>68.0</td>\n",
       "      <td>TMA</td>\n",
       "      <td>glossary</td>\n",
       "      <td>14</td>\n",
       "      <td>2</td>\n",
       "      <td>378</td>\n",
       "    </tr>\n",
       "    <tr>\n",
       "      <th>1017961</th>\n",
       "      <td>693273</td>\n",
       "      <td>GGG</td>\n",
       "      <td>M</td>\n",
       "      <td>N</td>\n",
       "      <td>Fail</td>\n",
       "      <td>68.0</td>\n",
       "      <td>TMA</td>\n",
       "      <td>glossary</td>\n",
       "      <td>14</td>\n",
       "      <td>6</td>\n",
       "      <td>378</td>\n",
       "    </tr>\n",
       "    <tr>\n",
       "      <th>1017962</th>\n",
       "      <td>693273</td>\n",
       "      <td>GGG</td>\n",
       "      <td>M</td>\n",
       "      <td>N</td>\n",
       "      <td>Fail</td>\n",
       "      <td>68.0</td>\n",
       "      <td>TMA</td>\n",
       "      <td>glossary</td>\n",
       "      <td>14</td>\n",
       "      <td>14</td>\n",
       "      <td>378</td>\n",
       "    </tr>\n",
       "  </tbody>\n",
       "</table>\n",
       "<p>1017963 rows × 11 columns</p>\n",
       "</div>"
      ],
      "text/plain": [
       "         id_student code_module gender disability final_result  score  \\\n",
       "0             11391         AAA      M          N         Pass   82.0   \n",
       "1             11391         AAA      M          N         Pass   82.0   \n",
       "2             11391         AAA      M          N         Pass   82.0   \n",
       "3             11391         AAA      M          N         Pass   82.0   \n",
       "4             11391         AAA      M          N         Pass   82.0   \n",
       "...             ...         ...    ...        ...          ...    ...   \n",
       "1017958      693273         GGG      M          N         Fail   68.0   \n",
       "1017959      693273         GGG      M          N         Fail   68.0   \n",
       "1017960      693273         GGG      M          N         Fail   68.0   \n",
       "1017961      693273         GGG      M          N         Fail   68.0   \n",
       "1017962      693273         GGG      M          N         Fail   68.0   \n",
       "\n",
       "        assessment_type activity_type  total_activities  sum_click  \\\n",
       "0                   TMA      resource                 9         16   \n",
       "1                   TMA      resource                 9         44   \n",
       "2                   TMA      resource                 9          1   \n",
       "3                   TMA      resource                 9          2   \n",
       "4                   TMA      resource                 9          7   \n",
       "...                 ...           ...               ...        ...   \n",
       "1017958             TMA      glossary                14          1   \n",
       "1017959             TMA      glossary                14          4   \n",
       "1017960             TMA      glossary                14          2   \n",
       "1017961             TMA      glossary                14          6   \n",
       "1017962             TMA      glossary                14         14   \n",
       "\n",
       "         total_interaction  \n",
       "0                     3555  \n",
       "1                     3555  \n",
       "2                     3555  \n",
       "3                     3555  \n",
       "4                     3555  \n",
       "...                    ...  \n",
       "1017958                378  \n",
       "1017959                378  \n",
       "1017960                378  \n",
       "1017961                378  \n",
       "1017962                378  \n",
       "\n",
       "[1017963 rows x 11 columns]"
      ]
     },
     "execution_count": 3,
     "metadata": {},
     "output_type": "execute_result"
    }
   ],
   "source": [
    "df_model = pd.read_csv('C:/Users/USER/Dwi/dataset/datamaster-real.csv')\n",
    "df_model"
   ]
  },
  {
   "cell_type": "code",
   "execution_count": 4,
   "metadata": {},
   "outputs": [
    {
     "name": "stdout",
     "output_type": "stream",
     "text": [
      "<class 'pandas.core.frame.DataFrame'>\n",
      "RangeIndex: 1017963 entries, 0 to 1017962\n",
      "Data columns (total 10 columns):\n",
      " #   Column             Non-Null Count    Dtype  \n",
      "---  ------             --------------    -----  \n",
      " 0   code_module        1017963 non-null  object \n",
      " 1   gender             1017963 non-null  object \n",
      " 2   disability         1017963 non-null  object \n",
      " 3   final_result       1017963 non-null  object \n",
      " 4   score              1017963 non-null  float64\n",
      " 5   assessment_type    1017963 non-null  object \n",
      " 6   activity_type      1017963 non-null  object \n",
      " 7   total_activities   1017963 non-null  int64  \n",
      " 8   sum_click          1017963 non-null  int64  \n",
      " 9   total_interaction  1017963 non-null  int64  \n",
      "dtypes: float64(1), int64(3), object(6)\n",
      "memory usage: 77.7+ MB\n"
     ]
    }
   ],
   "source": [
    "df_model = df_model.drop('id_student', axis=1)\n",
    "df_model.info()"
   ]
  },
  {
   "cell_type": "code",
   "execution_count": 5,
   "metadata": {},
   "outputs": [
    {
     "name": "stdout",
     "output_type": "stream",
     "text": [
      "Categorical columns           : ['code_module', 'gender', 'disability', 'final_result', 'assessment_type', 'activity_type']\n",
      "Categorical columns position  : [0, 1, 2, 3, 5, 6]\n"
     ]
    }
   ],
   "source": [
    "# Get the position of categorical columns\n",
    "catColumnsPos = [df_model.columns.get_loc(col) for col in list(df_model.select_dtypes('object').columns)]\n",
    "print('Categorical columns           : {}'.format(list(df_model.select_dtypes('object').columns)))\n",
    "print('Categorical columns position  : {}'.format(catColumnsPos))"
   ]
  },
  {
   "cell_type": "code",
   "execution_count": 6,
   "metadata": {},
   "outputs": [
    {
     "data": {
      "text/html": [
       "<div>\n",
       "<style scoped>\n",
       "    .dataframe tbody tr th:only-of-type {\n",
       "        vertical-align: middle;\n",
       "    }\n",
       "\n",
       "    .dataframe tbody tr th {\n",
       "        vertical-align: top;\n",
       "    }\n",
       "\n",
       "    .dataframe thead th {\n",
       "        text-align: right;\n",
       "    }\n",
       "</style>\n",
       "<table border=\"1\" class=\"dataframe\">\n",
       "  <thead>\n",
       "    <tr style=\"text-align: right;\">\n",
       "      <th></th>\n",
       "      <th>code_module</th>\n",
       "      <th>gender</th>\n",
       "      <th>disability</th>\n",
       "      <th>final_result</th>\n",
       "      <th>score</th>\n",
       "      <th>assessment_type</th>\n",
       "      <th>activity_type</th>\n",
       "      <th>total_activities</th>\n",
       "      <th>sum_click</th>\n",
       "      <th>total_interaction</th>\n",
       "      <th>cluster</th>\n",
       "    </tr>\n",
       "  </thead>\n",
       "  <tbody>\n",
       "    <tr>\n",
       "      <th>0</th>\n",
       "      <td>AAA</td>\n",
       "      <td>M</td>\n",
       "      <td>N</td>\n",
       "      <td>Pass</td>\n",
       "      <td>82.0</td>\n",
       "      <td>TMA</td>\n",
       "      <td>resource</td>\n",
       "      <td>9</td>\n",
       "      <td>16</td>\n",
       "      <td>3555</td>\n",
       "      <td>0</td>\n",
       "    </tr>\n",
       "    <tr>\n",
       "      <th>1</th>\n",
       "      <td>AAA</td>\n",
       "      <td>M</td>\n",
       "      <td>N</td>\n",
       "      <td>Pass</td>\n",
       "      <td>82.0</td>\n",
       "      <td>TMA</td>\n",
       "      <td>resource</td>\n",
       "      <td>9</td>\n",
       "      <td>44</td>\n",
       "      <td>3555</td>\n",
       "      <td>0</td>\n",
       "    </tr>\n",
       "    <tr>\n",
       "      <th>2</th>\n",
       "      <td>AAA</td>\n",
       "      <td>M</td>\n",
       "      <td>N</td>\n",
       "      <td>Pass</td>\n",
       "      <td>82.0</td>\n",
       "      <td>TMA</td>\n",
       "      <td>resource</td>\n",
       "      <td>9</td>\n",
       "      <td>1</td>\n",
       "      <td>3555</td>\n",
       "      <td>0</td>\n",
       "    </tr>\n",
       "    <tr>\n",
       "      <th>3</th>\n",
       "      <td>AAA</td>\n",
       "      <td>M</td>\n",
       "      <td>N</td>\n",
       "      <td>Pass</td>\n",
       "      <td>82.0</td>\n",
       "      <td>TMA</td>\n",
       "      <td>resource</td>\n",
       "      <td>9</td>\n",
       "      <td>2</td>\n",
       "      <td>3555</td>\n",
       "      <td>0</td>\n",
       "    </tr>\n",
       "    <tr>\n",
       "      <th>4</th>\n",
       "      <td>AAA</td>\n",
       "      <td>M</td>\n",
       "      <td>N</td>\n",
       "      <td>Pass</td>\n",
       "      <td>82.0</td>\n",
       "      <td>TMA</td>\n",
       "      <td>resource</td>\n",
       "      <td>9</td>\n",
       "      <td>7</td>\n",
       "      <td>3555</td>\n",
       "      <td>0</td>\n",
       "    </tr>\n",
       "  </tbody>\n",
       "</table>\n",
       "</div>"
      ],
      "text/plain": [
       "  code_module gender disability final_result  score assessment_type  \\\n",
       "0         AAA      M          N         Pass   82.0             TMA   \n",
       "1         AAA      M          N         Pass   82.0             TMA   \n",
       "2         AAA      M          N         Pass   82.0             TMA   \n",
       "3         AAA      M          N         Pass   82.0             TMA   \n",
       "4         AAA      M          N         Pass   82.0             TMA   \n",
       "\n",
       "  activity_type  total_activities  sum_click  total_interaction  cluster  \n",
       "0      resource                 9         16               3555        0  \n",
       "1      resource                 9         44               3555        0  \n",
       "2      resource                 9          1               3555        0  \n",
       "3      resource                 9          2               3555        0  \n",
       "4      resource                 9          7               3555        0  "
      ]
     },
     "execution_count": 6,
     "metadata": {},
     "output_type": "execute_result"
    }
   ],
   "source": [
    "# we set the number of clusters to 3\n",
    "kproto = KPrototypes(n_clusters= 3, init='Huang', n_init = 25, random_state=42)\n",
    "kproto.fit_predict(df_model, categorical= catColumnsPos)\n",
    "# store cluster labels\n",
    "cluster_labels = kproto.labels_\n",
    "# add clusters to dataframe\n",
    "df_model[\"cluster\"] = cluster_labels\n",
    "# check if clusters have been added to the dataframe\n",
    "df_model.head()"
   ]
  },
  {
   "cell_type": "code",
   "execution_count": 7,
   "metadata": {},
   "outputs": [
    {
     "data": {
      "text/plain": [
       "array([['60.26631060705252', '22.503719847441676', '15.075732659699176',\n",
       "        '7785.15473937953', 'DDD', 'M', 'N', 'Fail', 'TMA', 'subpage'],\n",
       "       ['81.090989010989', '35.40923076923077', '66.43384615384615',\n",
       "        '150995.6465934066', 'FFF', 'M', 'N', 'Pass', 'CMA', 'forumng'],\n",
       "       ['67.14697669827763', '34.42748049964545', '30.503172784959727',\n",
       "        '42613.47141636341', 'FFF', 'M', 'N', 'Pass', 'TMA', 'forumng']],\n",
       "      dtype='<U32')"
      ]
     },
     "execution_count": 7,
     "metadata": {},
     "output_type": "execute_result"
    }
   ],
   "source": [
    "# Cluster centorid\n",
    "kproto.cluster_centroids_"
   ]
  },
  {
   "cell_type": "code",
   "execution_count": 8,
   "metadata": {},
   "outputs": [
    {
     "data": {
      "text/plain": [
       "7"
      ]
     },
     "execution_count": 8,
     "metadata": {},
     "output_type": "execute_result"
    }
   ],
   "source": [
    "# Check the iteration of the clusters created\n",
    "kproto.n_iter_"
   ]
  },
  {
   "cell_type": "code",
   "execution_count": 9,
   "metadata": {},
   "outputs": [
    {
     "data": {
      "text/plain": [
       "209956000089344.4"
      ]
     },
     "execution_count": 9,
     "metadata": {},
     "output_type": "execute_result"
    }
   ],
   "source": [
    "# Check the cost of the clusters created\n",
    "kproto.cost_"
   ]
  },
  {
   "cell_type": "code",
   "execution_count": 10,
   "metadata": {},
   "outputs": [
    {
     "data": {
      "text/plain": [
       "array([0, 0, 0, ..., 0, 0, 0], dtype=uint16)"
      ]
     },
     "execution_count": 10,
     "metadata": {},
     "output_type": "execute_result"
    }
   ],
   "source": [
    "# Check the labels of the clusters created\n",
    "kproto.labels_"
   ]
  },
  {
   "cell_type": "code",
   "execution_count": 11,
   "metadata": {},
   "outputs": [],
   "source": [
    "# Save Model\n",
    "pickle.dump(kproto, open('kproto_model_huang.pkl', 'wb'))"
   ]
  },
  {
   "cell_type": "markdown",
   "metadata": {},
   "source": [
    "## Visualize Cluster Result"
   ]
  },
  {
   "cell_type": "code",
   "execution_count": 12,
   "metadata": {},
   "outputs": [
    {
     "name": "stdout",
     "output_type": "stream",
     "text": [
      "\n",
      "Learning Style Cluster: 0\n",
      "\n",
      "  code_module gender disability final_result  score assessment_type  \\\n",
      "0         AAA      M          N         Pass   82.0             TMA   \n",
      "1         AAA      M          N         Pass   82.0             TMA   \n",
      "2         AAA      M          N         Pass   82.0             TMA   \n",
      "3         AAA      M          N         Pass   82.0             TMA   \n",
      "4         AAA      M          N         Pass   82.0             TMA   \n",
      "5         AAA      M          N         Pass   82.0             TMA   \n",
      "6         AAA      M          N         Pass   82.0             TMA   \n",
      "7         AAA      M          N         Pass   82.0             TMA   \n",
      "8         AAA      M          N         Pass   82.0             TMA   \n",
      "9         AAA      M          N         Pass   82.0             TMA   \n",
      "\n",
      "  activity_type  total_activities  sum_click  total_interaction  cluster  \n",
      "0      resource                 9         16               3555        0  \n",
      "1      resource                 9         44               3555        0  \n",
      "2      resource                 9          1               3555        0  \n",
      "3      resource                 9          2               3555        0  \n",
      "4      resource                 9          7               3555        0  \n",
      "5      resource                 9         10               3555        0  \n",
      "6      resource                 9         11               3555        0  \n",
      "7      resource                 9          5               3555        0  \n",
      "8      resource                 9         18               3555        0  \n",
      "9      resource                 9         76               3555        0  \n",
      "\n",
      "Learning Style Cluster: 1\n",
      "\n",
      "       code_module gender disability final_result  score assessment_type  \\\n",
      "287343         DDD      M          N         Pass   36.0             CMA   \n",
      "287344         DDD      M          N         Pass   36.0             CMA   \n",
      "287345         DDD      M          N         Pass   36.0             CMA   \n",
      "287346         DDD      M          N         Pass   36.0             CMA   \n",
      "287347         DDD      M          N         Pass   36.0             CMA   \n",
      "287348         DDD      M          N         Pass   36.0             CMA   \n",
      "287349         DDD      M          N         Pass   36.0             CMA   \n",
      "287350         DDD      M          N         Pass   36.0             CMA   \n",
      "287351         DDD      M          N         Pass   36.0             CMA   \n",
      "287352         DDD      M          N         Pass   36.0             CMA   \n",
      "\n",
      "       activity_type  total_activities  sum_click  total_interaction  cluster  \n",
      "287343           url                24          2             121320        1  \n",
      "287344           url                24          1             121320        1  \n",
      "287345           url                24          5             121320        1  \n",
      "287346           url                24          7             121320        1  \n",
      "287347           url                24          3             121320        1  \n",
      "287348           url                24          4             121320        1  \n",
      "287349           url                24          6             121320        1  \n",
      "287350           url                24          8             121320        1  \n",
      "287351           url                24         43             121320        1  \n",
      "287352           url                24         19             121320        1  \n",
      "\n",
      "Learning Style Cluster: 2\n",
      "\n",
      "      code_module gender disability final_result  score assessment_type  \\\n",
      "91161         BBB      M          N         Pass   68.0             CMA   \n",
      "91162         BBB      M          N         Pass   68.0             CMA   \n",
      "91163         BBB      M          N         Pass   68.0             CMA   \n",
      "91164         BBB      M          N         Pass   68.0             CMA   \n",
      "91165         BBB      M          N         Pass   68.0             CMA   \n",
      "91166         BBB      M          N         Pass   68.0             CMA   \n",
      "91167         BBB      M          N         Pass   68.0             CMA   \n",
      "91168         BBB      M          N         Pass   68.0             CMA   \n",
      "91169         BBB      M          N         Pass   68.0             CMA   \n",
      "91170         BBB      M          N         Pass   68.0             CMA   \n",
      "\n",
      "      activity_type  total_activities  sum_click  total_interaction  cluster  \n",
      "91161      resource                24          2              31584        2  \n",
      "91162      resource                24          1              31584        2  \n",
      "91163      resource                24         13              31584        2  \n",
      "91164      resource                24         25              31584        2  \n",
      "91165      resource                24          6              31584        2  \n",
      "91166      resource                24          8              31584        2  \n",
      "91167      resource                24          4              31584        2  \n",
      "91168      resource                24          5              31584        2  \n",
      "91169      resource                24          3              31584        2  \n",
      "91170      resource                24         10              31584        2  \n"
     ]
    }
   ],
   "source": [
    "# Display data based on the cluster  \n",
    "for i in range (0,3):\n",
    "    print('\\nLearning Style Cluster: {}\\n'.format(i))\n",
    "    print(df_model[df_model['cluster']== i].head(10))"
   ]
  },
  {
   "cell_type": "code",
   "execution_count": 13,
   "metadata": {
    "scrolled": true
   },
   "outputs": [
    {
     "data": {
      "image/png": "[encoded data removed]",
      "text/plain": [
       "<Figure size 432x288 with 1 Axes>"
      ]
     },
     "metadata": {
      "needs_background": "light"
     },
     "output_type": "display_data"
    },
    {
     "data": {
      "image/png": "[encoded data removed]",
      "text/plain": [
       "<Figure size 432x288 with 1 Axes>"
      ]
     },
     "metadata": {
      "needs_background": "light"
     },
     "output_type": "display_data"
    },
    {
     "data": {
      "image/png": "[encoded data removed]",
      "text/plain": [
       "<Figure size 432x288 with 1 Axes>"
      ]
     },
     "metadata": {
      "needs_background": "light"
     },
     "output_type": "display_data"
    },
    {
     "data": {
      "image/png": "[encoded data removed]",
      "text/plain": [
       "<Figure size 432x288 with 1 Axes>"
      ]
     },
     "metadata": {
      "needs_background": "light"
     },
     "output_type": "display_data"
    }
   ],
   "source": [
    "# Data Numerical\n",
    "kolom_numerik = ['score','total_activities', 'sum_click', 'total_interaction']\n",
    "\n",
    "for i in kolom_numerik:\n",
    "    plt.figure(figsize=(6,4))\n",
    "    ax = sns.boxplot(x = 'cluster', y = i, data = df_model)\n",
    "    plt.title('\\nBox Plot {}\\n'.format(i), fontsize=12)\n",
    "    plt.show()"
   ]
  },
  {
   "cell_type": "code",
   "execution_count": 14,
   "metadata": {},
   "outputs": [
    {
     "data": {
      "image/png": "[encoded data removed]",
      "text/plain": [
       "<Figure size 720x576 with 1 Axes>"
      ]
     },
     "metadata": {
      "needs_background": "light"
     },
     "output_type": "display_data"
    },
    {
     "data": {
      "image/png": "[encoded data removed]",
      "text/plain": [
       "<Figure size 720x576 with 1 Axes>"
      ]
     },
     "metadata": {
      "needs_background": "light"
     },
     "output_type": "display_data"
    },
    {
     "data": {
      "image/png": "[encoded data removed]",
      "text/plain": [
       "<Figure size 720x576 with 1 Axes>"
      ]
     },
     "metadata": {
      "needs_background": "light"
     },
     "output_type": "display_data"
    },
    {
     "data": {
      "image/png": "[encoded data removed]",
      "text/plain": [
       "<Figure size 720x576 with 1 Axes>"
      ]
     },
     "metadata": {
      "needs_background": "light"
     },
     "output_type": "display_data"
    },
    {
     "data": {
      "image/png": "[encoded data removed]",
      "text/plain": [
       "<Figure size 720x576 with 1 Axes>"
      ]
     },
     "metadata": {
      "needs_background": "light"
     },
     "output_type": "display_data"
    },
    {
     "data": {
      "image/png": "[encoded data removed]",
      "text/plain": [
       "<Figure size 720x576 with 1 Axes>"
      ]
     },
     "metadata": {
      "needs_background": "light"
     },
     "output_type": "display_data"
    }
   ],
   "source": [
    "# Data Categorical\n",
    "kolom_categorical = ['code_module', 'gender', 'disability', 'final_result', 'assessment_type', 'activity_type']\n",
    "\n",
    "for i in kolom_categorical:\n",
    "    plt.figure(figsize=(10,8))\n",
    "    ax = sns.countplot(data = df_model, x = 'cluster', hue = i )\n",
    "    plt.title('\\nCount Plot {}\\n'.format(i), fontsize=12)\n",
    "    ax.legend(loc=\"upper center\")\n",
    "for p in ax.patches:\n",
    "    ax.annotate(format(p.get_height(), '.0f'),\n",
    "    (p.get_x() + p.get_width() / 2., p.get_height()),\n",
    "    ha = 'center',\n",
    "    va = 'center',\n",
    "    xytext = (0, 10),\n",
    "    textcoords = 'offset points')\n",
    "    \n",
    "sns.despine(right = True, top = True, left = True)\n",
    "ax.axes.yaxis.set_visible(False)\n",
    "plt.show()"
   ]
  },
  {
   "cell_type": "code",
   "execution_count": 15,
   "metadata": {},
   "outputs": [
    {
     "name": "stdout",
     "output_type": "stream",
     "text": [
      "<class 'pandas.core.frame.DataFrame'>\n",
      "RangeIndex: 1017963 entries, 0 to 1017962\n",
      "Data columns (total 11 columns):\n",
      " #   Column             Non-Null Count    Dtype  \n",
      "---  ------             --------------    -----  \n",
      " 0   code_module        1017963 non-null  object \n",
      " 1   gender             1017963 non-null  object \n",
      " 2   disability         1017963 non-null  object \n",
      " 3   final_result       1017963 non-null  object \n",
      " 4   score              1017963 non-null  float64\n",
      " 5   assessment_type    1017963 non-null  object \n",
      " 6   activity_type      1017963 non-null  object \n",
      " 7   total_activities   1017963 non-null  int64  \n",
      " 8   sum_click          1017963 non-null  int64  \n",
      " 9   total_interaction  1017963 non-null  int64  \n",
      " 10  cluster            1017963 non-null  uint16 \n",
      "dtypes: float64(1), int64(3), object(6), uint16(1)\n",
      "memory usage: 79.6+ MB\n"
     ]
    }
   ],
   "source": [
    "df_model.info()"
   ]
  },
  {
   "cell_type": "markdown",
   "metadata": {},
   "source": [
    "## Analyze and Mapping Cluster"
   ]
  },
  {
   "cell_type": "code",
   "execution_count": 16,
   "metadata": {},
   "outputs": [
    {
     "data": {
      "text/plain": [
       "0    605670\n",
       "2    384993\n",
       "1     27300\n",
       "Name: cluster, dtype: int64"
      ]
     },
     "execution_count": 16,
     "metadata": {},
     "output_type": "execute_result"
    }
   ],
   "source": [
    "df_model[\"cluster\"].value_counts()"
   ]
  },
  {
   "cell_type": "code",
   "execution_count": 17,
   "metadata": {},
   "outputs": [
    {
     "data": {
      "text/html": [
       "<div>\n",
       "<style scoped>\n",
       "    .dataframe tbody tr th:only-of-type {\n",
       "        vertical-align: middle;\n",
       "    }\n",
       "\n",
       "    .dataframe tbody tr th {\n",
       "        vertical-align: top;\n",
       "    }\n",
       "\n",
       "    .dataframe thead th {\n",
       "        text-align: right;\n",
       "    }\n",
       "</style>\n",
       "<table border=\"1\" class=\"dataframe\">\n",
       "  <thead>\n",
       "    <tr style=\"text-align: right;\">\n",
       "      <th></th>\n",
       "      <th>score</th>\n",
       "      <th>total_activities</th>\n",
       "      <th>sum_click</th>\n",
       "      <th>total_interaction</th>\n",
       "      <th>cluster</th>\n",
       "    </tr>\n",
       "  </thead>\n",
       "  <tbody>\n",
       "    <tr>\n",
       "      <th>count</th>\n",
       "      <td>605670.000000</td>\n",
       "      <td>605670.00000</td>\n",
       "      <td>605670.000000</td>\n",
       "      <td>605670.000000</td>\n",
       "      <td>605670.0</td>\n",
       "    </tr>\n",
       "    <tr>\n",
       "      <th>mean</th>\n",
       "      <td>60.266311</td>\n",
       "      <td>22.50372</td>\n",
       "      <td>15.075733</td>\n",
       "      <td>7785.154739</td>\n",
       "      <td>0.0</td>\n",
       "    </tr>\n",
       "    <tr>\n",
       "      <th>std</th>\n",
       "      <td>24.642271</td>\n",
       "      <td>7.99766</td>\n",
       "      <td>18.339928</td>\n",
       "      <td>6084.414976</td>\n",
       "      <td>0.0</td>\n",
       "    </tr>\n",
       "    <tr>\n",
       "      <th>min</th>\n",
       "      <td>0.000000</td>\n",
       "      <td>9.00000</td>\n",
       "      <td>1.000000</td>\n",
       "      <td>14.000000</td>\n",
       "      <td>0.0</td>\n",
       "    </tr>\n",
       "    <tr>\n",
       "      <th>25%</th>\n",
       "      <td>43.000000</td>\n",
       "      <td>18.00000</td>\n",
       "      <td>5.000000</td>\n",
       "      <td>3113.000000</td>\n",
       "      <td>0.0</td>\n",
       "    </tr>\n",
       "    <tr>\n",
       "      <th>50%</th>\n",
       "      <td>63.000000</td>\n",
       "      <td>24.00000</td>\n",
       "      <td>10.000000</td>\n",
       "      <td>5712.000000</td>\n",
       "      <td>0.0</td>\n",
       "    </tr>\n",
       "    <tr>\n",
       "      <th>75%</th>\n",
       "      <td>80.000000</td>\n",
       "      <td>24.00000</td>\n",
       "      <td>19.000000</td>\n",
       "      <td>11160.000000</td>\n",
       "      <td>0.0</td>\n",
       "    </tr>\n",
       "    <tr>\n",
       "      <th>max</th>\n",
       "      <td>100.000000</td>\n",
       "      <td>36.00000</td>\n",
       "      <td>1326.000000</td>\n",
       "      <td>24930.000000</td>\n",
       "      <td>0.0</td>\n",
       "    </tr>\n",
       "  </tbody>\n",
       "</table>\n",
       "</div>"
      ],
      "text/plain": [
       "               score  total_activities      sum_click  total_interaction  \\\n",
       "count  605670.000000      605670.00000  605670.000000      605670.000000   \n",
       "mean       60.266311          22.50372      15.075733        7785.154739   \n",
       "std        24.642271           7.99766      18.339928        6084.414976   \n",
       "min         0.000000           9.00000       1.000000          14.000000   \n",
       "25%        43.000000          18.00000       5.000000        3113.000000   \n",
       "50%        63.000000          24.00000      10.000000        5712.000000   \n",
       "75%        80.000000          24.00000      19.000000       11160.000000   \n",
       "max       100.000000          36.00000    1326.000000       24930.000000   \n",
       "\n",
       "        cluster  \n",
       "count  605670.0  \n",
       "mean        0.0  \n",
       "std         0.0  \n",
       "min         0.0  \n",
       "25%         0.0  \n",
       "50%         0.0  \n",
       "75%         0.0  \n",
       "max         0.0  "
      ]
     },
     "execution_count": 17,
     "metadata": {},
     "output_type": "execute_result"
    }
   ],
   "source": [
    "df_model[df_model[\"cluster\"] == 0].describe()"
   ]
  },
  {
   "cell_type": "code",
   "execution_count": 18,
   "metadata": {},
   "outputs": [
    {
     "data": {
      "text/html": [
       "<div>\n",
       "<style scoped>\n",
       "    .dataframe tbody tr th:only-of-type {\n",
       "        vertical-align: middle;\n",
       "    }\n",
       "\n",
       "    .dataframe tbody tr th {\n",
       "        vertical-align: top;\n",
       "    }\n",
       "\n",
       "    .dataframe thead th {\n",
       "        text-align: right;\n",
       "    }\n",
       "</style>\n",
       "<table border=\"1\" class=\"dataframe\">\n",
       "  <thead>\n",
       "    <tr style=\"text-align: right;\">\n",
       "      <th></th>\n",
       "      <th>score</th>\n",
       "      <th>total_activities</th>\n",
       "      <th>sum_click</th>\n",
       "      <th>total_interaction</th>\n",
       "      <th>cluster</th>\n",
       "    </tr>\n",
       "  </thead>\n",
       "  <tbody>\n",
       "    <tr>\n",
       "      <th>count</th>\n",
       "      <td>27300.000000</td>\n",
       "      <td>27300.000000</td>\n",
       "      <td>27300.000000</td>\n",
       "      <td>27300.000000</td>\n",
       "      <td>27300.0</td>\n",
       "    </tr>\n",
       "    <tr>\n",
       "      <th>mean</th>\n",
       "      <td>81.090989</td>\n",
       "      <td>35.409231</td>\n",
       "      <td>66.433846</td>\n",
       "      <td>150995.646593</td>\n",
       "      <td>1.0</td>\n",
       "    </tr>\n",
       "    <tr>\n",
       "      <th>std</th>\n",
       "      <td>21.447677</td>\n",
       "      <td>2.596241</td>\n",
       "      <td>166.140210</td>\n",
       "      <td>67811.615847</td>\n",
       "      <td>0.0</td>\n",
       "    </tr>\n",
       "    <tr>\n",
       "      <th>min</th>\n",
       "      <td>36.000000</td>\n",
       "      <td>24.000000</td>\n",
       "      <td>1.000000</td>\n",
       "      <td>101592.000000</td>\n",
       "      <td>1.0</td>\n",
       "    </tr>\n",
       "    <tr>\n",
       "      <th>25%</th>\n",
       "      <td>59.000000</td>\n",
       "      <td>36.000000</td>\n",
       "      <td>16.000000</td>\n",
       "      <td>112068.000000</td>\n",
       "      <td>1.0</td>\n",
       "    </tr>\n",
       "    <tr>\n",
       "      <th>50%</th>\n",
       "      <td>92.000000</td>\n",
       "      <td>36.000000</td>\n",
       "      <td>35.000000</td>\n",
       "      <td>121104.000000</td>\n",
       "      <td>1.0</td>\n",
       "    </tr>\n",
       "    <tr>\n",
       "      <th>75%</th>\n",
       "      <td>97.000000</td>\n",
       "      <td>36.000000</td>\n",
       "      <td>71.000000</td>\n",
       "      <td>154512.000000</td>\n",
       "      <td>1.0</td>\n",
       "    </tr>\n",
       "    <tr>\n",
       "      <th>max</th>\n",
       "      <td>100.000000</td>\n",
       "      <td>36.000000</td>\n",
       "      <td>3725.000000</td>\n",
       "      <td>315036.000000</td>\n",
       "      <td>1.0</td>\n",
       "    </tr>\n",
       "  </tbody>\n",
       "</table>\n",
       "</div>"
      ],
      "text/plain": [
       "              score  total_activities     sum_click  total_interaction  \\\n",
       "count  27300.000000      27300.000000  27300.000000       27300.000000   \n",
       "mean      81.090989         35.409231     66.433846      150995.646593   \n",
       "std       21.447677          2.596241    166.140210       67811.615847   \n",
       "min       36.000000         24.000000      1.000000      101592.000000   \n",
       "25%       59.000000         36.000000     16.000000      112068.000000   \n",
       "50%       92.000000         36.000000     35.000000      121104.000000   \n",
       "75%       97.000000         36.000000     71.000000      154512.000000   \n",
       "max      100.000000         36.000000   3725.000000      315036.000000   \n",
       "\n",
       "       cluster  \n",
       "count  27300.0  \n",
       "mean       1.0  \n",
       "std        0.0  \n",
       "min        1.0  \n",
       "25%        1.0  \n",
       "50%        1.0  \n",
       "75%        1.0  \n",
       "max        1.0  "
      ]
     },
     "execution_count": 18,
     "metadata": {},
     "output_type": "execute_result"
    }
   ],
   "source": [
    "df_model[df_model[\"cluster\"] == 1].describe()"
   ]
  },
  {
   "cell_type": "code",
   "execution_count": 19,
   "metadata": {},
   "outputs": [
    {
     "data": {
      "text/html": [
       "<div>\n",
       "<style scoped>\n",
       "    .dataframe tbody tr th:only-of-type {\n",
       "        vertical-align: middle;\n",
       "    }\n",
       "\n",
       "    .dataframe tbody tr th {\n",
       "        vertical-align: top;\n",
       "    }\n",
       "\n",
       "    .dataframe thead th {\n",
       "        text-align: right;\n",
       "    }\n",
       "</style>\n",
       "<table border=\"1\" class=\"dataframe\">\n",
       "  <thead>\n",
       "    <tr style=\"text-align: right;\">\n",
       "      <th></th>\n",
       "      <th>score</th>\n",
       "      <th>total_activities</th>\n",
       "      <th>sum_click</th>\n",
       "      <th>total_interaction</th>\n",
       "      <th>cluster</th>\n",
       "    </tr>\n",
       "  </thead>\n",
       "  <tbody>\n",
       "    <tr>\n",
       "      <th>count</th>\n",
       "      <td>384993.000000</td>\n",
       "      <td>384993.000000</td>\n",
       "      <td>384993.000000</td>\n",
       "      <td>384993.000000</td>\n",
       "      <td>384993.0</td>\n",
       "    </tr>\n",
       "    <tr>\n",
       "      <th>mean</th>\n",
       "      <td>67.146977</td>\n",
       "      <td>34.427480</td>\n",
       "      <td>30.503173</td>\n",
       "      <td>42613.471416</td>\n",
       "      <td>2.0</td>\n",
       "    </tr>\n",
       "    <tr>\n",
       "      <th>std</th>\n",
       "      <td>19.609185</td>\n",
       "      <td>4.842332</td>\n",
       "      <td>32.008330</td>\n",
       "      <td>12687.344881</td>\n",
       "      <td>0.0</td>\n",
       "    </tr>\n",
       "    <tr>\n",
       "      <th>min</th>\n",
       "      <td>0.000000</td>\n",
       "      <td>11.000000</td>\n",
       "      <td>1.000000</td>\n",
       "      <td>25308.000000</td>\n",
       "      <td>2.0</td>\n",
       "    </tr>\n",
       "    <tr>\n",
       "      <th>25%</th>\n",
       "      <td>54.000000</td>\n",
       "      <td>36.000000</td>\n",
       "      <td>10.000000</td>\n",
       "      <td>32868.000000</td>\n",
       "      <td>2.0</td>\n",
       "    </tr>\n",
       "    <tr>\n",
       "      <th>50%</th>\n",
       "      <td>69.000000</td>\n",
       "      <td>36.000000</td>\n",
       "      <td>22.000000</td>\n",
       "      <td>40176.000000</td>\n",
       "      <td>2.0</td>\n",
       "    </tr>\n",
       "    <tr>\n",
       "      <th>75%</th>\n",
       "      <td>82.000000</td>\n",
       "      <td>36.000000</td>\n",
       "      <td>40.000000</td>\n",
       "      <td>48708.000000</td>\n",
       "      <td>2.0</td>\n",
       "    </tr>\n",
       "    <tr>\n",
       "      <th>max</th>\n",
       "      <td>100.000000</td>\n",
       "      <td>36.000000</td>\n",
       "      <td>1497.000000</td>\n",
       "      <td>85824.000000</td>\n",
       "      <td>2.0</td>\n",
       "    </tr>\n",
       "  </tbody>\n",
       "</table>\n",
       "</div>"
      ],
      "text/plain": [
       "               score  total_activities      sum_click  total_interaction  \\\n",
       "count  384993.000000     384993.000000  384993.000000      384993.000000   \n",
       "mean       67.146977         34.427480      30.503173       42613.471416   \n",
       "std        19.609185          4.842332      32.008330       12687.344881   \n",
       "min         0.000000         11.000000       1.000000       25308.000000   \n",
       "25%        54.000000         36.000000      10.000000       32868.000000   \n",
       "50%        69.000000         36.000000      22.000000       40176.000000   \n",
       "75%        82.000000         36.000000      40.000000       48708.000000   \n",
       "max       100.000000         36.000000    1497.000000       85824.000000   \n",
       "\n",
       "        cluster  \n",
       "count  384993.0  \n",
       "mean        2.0  \n",
       "std         0.0  \n",
       "min         2.0  \n",
       "25%         2.0  \n",
       "50%         2.0  \n",
       "75%         2.0  \n",
       "max         2.0  "
      ]
     },
     "execution_count": 19,
     "metadata": {},
     "output_type": "execute_result"
    }
   ],
   "source": [
    "df_model[df_model[\"cluster\"] == 2].describe()"
   ]
  },
  {
   "cell_type": "code",
   "execution_count": 16,
   "metadata": {},
   "outputs": [
    {
     "name": "stdout",
     "output_type": "stream",
     "text": [
      "<class 'pandas.core.frame.DataFrame'>\n",
      "RangeIndex: 1017963 entries, 0 to 1017962\n",
      "Data columns (total 12 columns):\n",
      " #   Column             Non-Null Count    Dtype  \n",
      "---  ------             --------------    -----  \n",
      " 0   code_module        1017963 non-null  object \n",
      " 1   gender             1017963 non-null  object \n",
      " 2   disability         1017963 non-null  object \n",
      " 3   final_result       1017963 non-null  object \n",
      " 4   score              1017963 non-null  float64\n",
      " 5   assessment_type    1017963 non-null  object \n",
      " 6   activity_type      1017963 non-null  object \n",
      " 7   total_activities   1017963 non-null  int64  \n",
      " 8   sum_click          1017963 non-null  int64  \n",
      " 9   total_interaction  1017963 non-null  int64  \n",
      " 10  cluster            1017963 non-null  uint16 \n",
      " 11  segmen             1017963 non-null  object \n",
      "dtypes: float64(1), int64(3), object(7), uint16(1)\n",
      "memory usage: 87.4+ MB\n",
      "None\n",
      "  code_module gender disability final_result  score assessment_type  \\\n",
      "0         AAA      M          N         Pass   82.0             TMA   \n",
      "1         AAA      M          N         Pass   82.0             TMA   \n",
      "2         AAA      M          N         Pass   82.0             TMA   \n",
      "3         AAA      M          N         Pass   82.0             TMA   \n",
      "4         AAA      M          N         Pass   82.0             TMA   \n",
      "\n",
      "  activity_type  total_activities  sum_click  total_interaction  cluster  \\\n",
      "0      resource                 9         16               3555        0   \n",
      "1      resource                 9         44               3555        0   \n",
      "2      resource                 9          1               3555        0   \n",
      "3      resource                 9          2               3555        0   \n",
      "4      resource                 9          7               3555        0   \n",
      "\n",
      "   segmen  \n",
      "0  visual  \n",
      "1  visual  \n",
      "2  visual  \n",
      "3  visual  \n",
      "4  visual  \n"
     ]
    }
   ],
   "source": [
    "# Mapping cluster\n",
    "df_model['segmen'] = df_model['cluster'].map({\n",
    "0: 'visual',\n",
    "1: 'auditory',\n",
    "2: 'kinaesthetic'\n",
    "})\n",
    "\n",
    "print(df_model.info())\n",
    "print(df_model.head())"
   ]
  },
  {
   "cell_type": "code",
   "execution_count": 17,
   "metadata": {},
   "outputs": [],
   "source": [
    "df_model.to_csv('C:/Users/USER/Dwi/dataset/df_model.csv')"
   ]
  },
  {
   "cell_type": "markdown",
   "metadata": {},
   "source": [
    "## Predict using New Data "
   ]
  },
  {
   "cell_type": "code",
   "execution_count": null,
   "metadata": {},
   "outputs": [],
   "source": [
    "# New Data\n",
    "data = [{\n",
    "    'code_module': '' ,\n",
    "    'gender': '' ,\n",
    "    'disability': '',\n",
    "    'final_result': ,\n",
    "    'score': ,\n",
    "    'assessment_type': '',\n",
    "    'activity_type': '',\n",
    "    'total_activities': ,\n",
    "    'sum_click': ,\n",
    "    'total_interaction': ,\n",
    "}]\n",
    "\n",
    "# Create Dataframe\n",
    "new_df = pd.DataFrame(data)\n",
    "print(new_df)"
   ]
  },
  {
   "cell_type": "code",
   "execution_count": null,
   "metadata": {},
   "outputs": [],
   "source": [
    "def modelling(data):\n",
    "\n",
    "    # Use Model\n",
    "    kproto = pickle.load(open('kproto_model.pkl', 'rb'))\n",
    "\n",
    "    # Predict\n",
    "    clusters = kproto.predict(data,categorical=[0, 1, 2, 3, 5, 6])\n",
    "\n",
    "    return clusters\n",
    "\n",
    "# Run Function\n",
    "clusters = modelling(new_df)\n",
    "\n",
    "print(clusters)"
   ]
  },
  {
   "cell_type": "code",
   "execution_count": null,
   "metadata": {},
   "outputs": [],
   "source": [
    "def mapping_cluster(real_data, clusters):\n",
    "\n",
    "    # Merge cluster and real data\n",
    "    final_df = real_data.copy()\n",
    "    final_df['cluster'] = clusters\n",
    "\n",
    "    # Mapping Cluster\n",
    "    final_df['segmen'] = final_df['cluster'].map({\n",
    "    0: '',\n",
    "    1: '',\n",
    "    2: ''\n",
    "    })\n",
    "\n",
    "    return final_df\n",
    "\n",
    "# Run Functions\n",
    "new_final_df = mapping_cluster(new_df, clusters)\n",
    "\n",
    "print(new_final_df)"
   ]
  },
  {
   "cell_type": "code",
   "execution_count": null,
   "metadata": {},
   "outputs": [],
   "source": []
  },
  {
   "cell_type": "code",
   "execution_count": null,
   "metadata": {},
   "outputs": [],
   "source": []
  },
  {
   "cell_type": "code",
   "execution_count": null,
   "metadata": {},
   "outputs": [],
   "source": []
  },
  {
   "cell_type": "code",
   "execution_count": null,
   "metadata": {},
   "outputs": [],
   "source": [
    "# def preprocessing(data):\n",
    "#     # Conversion Categorical Data\n",
    "#     catColumns = ['code_module', 'gender', 'disability', 'final_result', 'assessment_type', 'activity_type']\n",
    "\n",
    "#     df_encode = data[catColumns].copy()\n",
    "\n",
    "#     ## code_module\n",
    "#     df_encode['code_module'] = df_encode['code_module'].map({\n",
    "#     'AAA': 0,\n",
    "#     'BBB' : 1,\n",
    "#     'CCC': 2,\n",
    "#     'DDD' : 3,\n",
    "#     'EEE': 4,\n",
    "#     'FFF' : 5,\n",
    "#     'GGG' : 6\n",
    "#     })\n",
    "\n",
    "#     ## gender\n",
    "#     df_encode['gender'] = df_encode['gender'].map({\n",
    "#     'M': 1,\n",
    "#     'F' : 0\n",
    "#     })\n",
    "\n",
    "#     ## disability\n",
    "#     df_encode['disability'] = df_encode['disability'].map({\n",
    "#     'N': 0,\n",
    "#     'Y' : 1\n",
    "#     })\n",
    "\n",
    "#     ## final_result\n",
    "#     df_encode['final_result'] = df_encode['final_result'].map({\n",
    "#     'Pass': 1,\n",
    "#     'Fail' : 0\n",
    "#     })\n",
    "\n",
    "#     ## assessment_type\n",
    "#     df_encode['assessment_type'] = df_encode['assessment_type'].map({\n",
    "#     'TMA': 1,\n",
    "#     'CMA' : 0\n",
    "#     })\n",
    "\n",
    "#     ## activity_type\n",
    "#     df_encode['activity_type'] = df_encode['activity_type'].map({\n",
    "#     'dataplus': 0,\n",
    "#     'dualpane': 1,\n",
    "#     'externalquiz': 2,\n",
    "#     'folder': 3,\n",
    "#     'forumng': 4,\n",
    "#     'glossary': 5,\n",
    "#     'homepage': 6,\n",
    "#     'htmlactivity': 7,\n",
    "#     'oucollaborate': 8,\n",
    "#     'oucontent': 9,\n",
    "#     'ouelluminate': 10,\n",
    "#     'ouwiki': 11,\n",
    "#     'page': 12,\n",
    "#     'questionnaire': 13,\n",
    "#     'quiz': 14,\n",
    "#     'repeatactivity': 15,\n",
    "#     'resource': 16,\n",
    "#     'sharedsubpage': 17,\n",
    "#     'subpage': 18,\n",
    "#     'url': 19,\n",
    "#     })\n",
    "\n",
    "#     # Standardisasi Numerical Data\n",
    "#     numColumns = ['score', 'total_activities', 'sum_click', 'total_interaction']\n",
    "#     df_std = data[numColumns].copy()\n",
    "\n",
    "#     ## Standardisasi Kolom Umur\n",
    "#     df_std['Umur'] = (df_std['Umur'] - 37.5)/14.7\n",
    "\n",
    "#     ## Standardisasi Kolom Nilai Belanja Setahun\n",
    "#     df_std['NilaiBelanjaSetahun'] = (df_std['NilaiBelanjaSetahun'] - 7069874.8)/2590619.0\n",
    "\n",
    "#     # Menggabungkan Kategorikal dan numerikal data\n",
    "#     df_final = df_encode.merge(df_std, left_index = True,\n",
    "#     right_index=True, how = 'left')\n",
    "\n",
    "#     return df_final\n",
    "\n",
    "# # Menjalankan fungsi\n",
    "# new_df_final = preprocessing(new_df)\n",
    "\n",
    "# print(new_df_final)"
   ]
  }
 ],
 "metadata": {
  "kernelspec": {
   "display_name": "Python 3",
   "language": "python",
   "name": "python3"
  },
  "language_info": {
   "codemirror_mode": {
    "name": "ipython",
    "version": 3
   },
   "file_extension": ".py",
   "mimetype": "text/x-python",
   "name": "python",
   "nbconvert_exporter": "python",
   "pygments_lexer": "ipython3",
   "version": "3.8.5"
  }
 },
 "nbformat": 4,
 "nbformat_minor": 4
}
