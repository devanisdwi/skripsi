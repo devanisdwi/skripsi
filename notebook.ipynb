{
 "cells": [
  {
   "cell_type": "code",
   "execution_count": 1,
   "metadata": {
    "cell_id": "d82af8a7-440d-4ea6-8481-cb11ab5e2c02",
    "deepnote_cell_height": 135,
    "deepnote_cell_type": "code",
    "deepnote_to_be_reexecuted": false,
    "execution_millis": 3537,
    "execution_start": 1656694382201,
    "owner_user_id": "176e89d5-804e-4fe4-b356-3fe3f090c624",
    "source_hash": "726574d4",
    "tags": []
   },
   "outputs": [],
   "source": [
    "import pandas as pd\n",
    "import numpy as numpy\n",
    "import matplotlib.pyplot as plt  \n",
    "import seaborn as sns "
   ]
  },
  {
   "cell_type": "code",
   "execution_count": 2,
   "metadata": {
    "cell_id": "3addf668b1b64d0c8548a45791a2d121",
    "deepnote_cell_height": 81,
    "deepnote_cell_type": "code",
    "deepnote_to_be_reexecuted": false,
    "execution_millis": 850,
    "execution_start": 1656694385747,
    "source_hash": "aea28886",
    "tags": []
   },
   "outputs": [],
   "source": [
    "df = pd.read_csv('https://raw.githubusercontent.com/Faiqazmi/Dataset_latihan/main/covid_19_data.csv')"
   ]
  },
  {
   "cell_type": "markdown",
   "metadata": {
    "cell_id": "2e755fc4ed754d3592cea484438c1536",
    "deepnote_cell_type": "text-cell-h1",
    "formattedRanges": [],
    "is_collapsed": false,
    "tags": []
   },
   "source": [
    "# Problem Statement"
   ]
  },
  {
   "cell_type": "markdown",
   "metadata": {
    "cell_id": "027ff5e4110f420f913e620623255b30",
    "deepnote_cell_type": "text-cell-p",
    "formattedRanges": [],
    "is_collapsed": false,
    "owner_user_id": "a6b34147-fd5f-48b6-9096-a3fa13db19ad",
    "tags": []
   },
   "source": [
    "1. "
   ]
  },
  {
   "cell_type": "markdown",
   "metadata": {
    "cell_id": "f711108bb9c94651b3aa3c9a427591ac",
    "deepnote_cell_type": "text-cell-h1",
    "formattedRanges": [],
    "is_collapsed": false,
    "tags": []
   },
   "source": [
    "# Data Cleaning and Processing"
   ]
  },
  {
   "cell_type": "code",
   "execution_count": 3,
   "metadata": {
    "cell_id": "cdb7770e4ebe483c9739c27342488750",
    "deepnote_cell_height": 412,
    "deepnote_cell_type": "code",
    "deepnote_to_be_reexecuted": false,
    "execution_millis": 139,
    "execution_start": 1656694386608,
    "source_hash": "c085b6ba",
    "tags": []
   },
   "outputs": [
    {
     "data": {
      "text/html": [
       "<div>\n",
       "<style scoped>\n",
       "    .dataframe tbody tr th:only-of-type {\n",
       "        vertical-align: middle;\n",
       "    }\n",
       "\n",
       "    .dataframe tbody tr th {\n",
       "        vertical-align: top;\n",
       "    }\n",
       "\n",
       "    .dataframe thead th {\n",
       "        text-align: right;\n",
       "    }\n",
       "</style>\n",
       "<table border=\"1\" class=\"dataframe\">\n",
       "  <thead>\n",
       "    <tr style=\"text-align: right;\">\n",
       "      <th></th>\n",
       "      <th>SNo</th>\n",
       "      <th>ObservationDate</th>\n",
       "      <th>Province/State</th>\n",
       "      <th>Country/Region</th>\n",
       "      <th>Last Update</th>\n",
       "      <th>Confirmed</th>\n",
       "      <th>Deaths</th>\n",
       "      <th>Recovered</th>\n",
       "    </tr>\n",
       "  </thead>\n",
       "  <tbody>\n",
       "    <tr>\n",
       "      <th>0</th>\n",
       "      <td>1</td>\n",
       "      <td>01/22/2020</td>\n",
       "      <td>Anhui</td>\n",
       "      <td>Mainland China</td>\n",
       "      <td>1/22/2020 17:00</td>\n",
       "      <td>1.0</td>\n",
       "      <td>0.0</td>\n",
       "      <td>0.0</td>\n",
       "    </tr>\n",
       "    <tr>\n",
       "      <th>1</th>\n",
       "      <td>2</td>\n",
       "      <td>01/22/2020</td>\n",
       "      <td>Beijing</td>\n",
       "      <td>Mainland China</td>\n",
       "      <td>1/22/2020 17:00</td>\n",
       "      <td>14.0</td>\n",
       "      <td>0.0</td>\n",
       "      <td>0.0</td>\n",
       "    </tr>\n",
       "    <tr>\n",
       "      <th>2</th>\n",
       "      <td>3</td>\n",
       "      <td>01/22/2020</td>\n",
       "      <td>Chongqing</td>\n",
       "      <td>Mainland China</td>\n",
       "      <td>1/22/2020 17:00</td>\n",
       "      <td>6.0</td>\n",
       "      <td>0.0</td>\n",
       "      <td>0.0</td>\n",
       "    </tr>\n",
       "    <tr>\n",
       "      <th>3</th>\n",
       "      <td>4</td>\n",
       "      <td>01/22/2020</td>\n",
       "      <td>Fujian</td>\n",
       "      <td>Mainland China</td>\n",
       "      <td>1/22/2020 17:00</td>\n",
       "      <td>1.0</td>\n",
       "      <td>0.0</td>\n",
       "      <td>0.0</td>\n",
       "    </tr>\n",
       "    <tr>\n",
       "      <th>4</th>\n",
       "      <td>5</td>\n",
       "      <td>01/22/2020</td>\n",
       "      <td>Gansu</td>\n",
       "      <td>Mainland China</td>\n",
       "      <td>1/22/2020 17:00</td>\n",
       "      <td>0.0</td>\n",
       "      <td>0.0</td>\n",
       "      <td>0.0</td>\n",
       "    </tr>\n",
       "  </tbody>\n",
       "</table>\n",
       "</div>"
      ],
      "text/plain": [
       "   SNo ObservationDate Province/State  Country/Region      Last Update  \\\n",
       "0    1      01/22/2020          Anhui  Mainland China  1/22/2020 17:00   \n",
       "1    2      01/22/2020        Beijing  Mainland China  1/22/2020 17:00   \n",
       "2    3      01/22/2020      Chongqing  Mainland China  1/22/2020 17:00   \n",
       "3    4      01/22/2020         Fujian  Mainland China  1/22/2020 17:00   \n",
       "4    5      01/22/2020          Gansu  Mainland China  1/22/2020 17:00   \n",
       "\n",
       "   Confirmed  Deaths  Recovered  \n",
       "0        1.0     0.0        0.0  \n",
       "1       14.0     0.0        0.0  \n",
       "2        6.0     0.0        0.0  \n",
       "3        1.0     0.0        0.0  \n",
       "4        0.0     0.0        0.0  "
      ]
     },
     "execution_count": 3,
     "metadata": {},
     "output_type": "execute_result"
    }
   ],
   "source": [
    "df.head()"
   ]
  },
  {
   "cell_type": "code",
   "execution_count": 4,
   "metadata": {
    "cell_id": "be4180feefb54fbf8f2720011d31efea",
    "deepnote_cell_height": 394.8125,
    "deepnote_cell_type": "code",
    "deepnote_to_be_reexecuted": false,
    "execution_millis": 202,
    "execution_start": 1656694386754,
    "source_hash": "de1e323c",
    "tags": []
   },
   "outputs": [
    {
     "name": "stdout",
     "output_type": "stream",
     "text": [
      "<class 'pandas.core.frame.DataFrame'>\n",
      "RangeIndex: 306429 entries, 0 to 306428\n",
      "Data columns (total 8 columns):\n",
      " #   Column           Non-Null Count   Dtype  \n",
      "---  ------           --------------   -----  \n",
      " 0   SNo              306429 non-null  int64  \n",
      " 1   ObservationDate  306429 non-null  object \n",
      " 2   Province/State   228329 non-null  object \n",
      " 3   Country/Region   306429 non-null  object \n",
      " 4   Last Update      306429 non-null  object \n",
      " 5   Confirmed        306429 non-null  float64\n",
      " 6   Deaths           306429 non-null  float64\n",
      " 7   Recovered        306429 non-null  float64\n",
      "dtypes: float64(3), int64(1), object(4)\n",
      "memory usage: 18.7+ MB\n"
     ]
    }
   ],
   "source": [
    "df.info()"
   ]
  },
  {
   "cell_type": "code",
   "execution_count": 5,
   "metadata": {
    "cell_id": "092b9884c5554701bfc1d9f6e80f4e8d",
    "deepnote_cell_height": 99,
    "deepnote_cell_type": "code",
    "deepnote_to_be_reexecuted": false,
    "execution_millis": 23,
    "execution_start": 1656694386957,
    "source_hash": "4e0e0b85",
    "tags": []
   },
   "outputs": [],
   "source": [
    "# Hapus kolom yang tidak diperlukan\n",
    "df = df.drop(['SNo', 'ObservationDate', 'Last Update'], axis=1)"
   ]
  },
  {
   "cell_type": "code",
   "execution_count": 6,
   "metadata": {
    "cell_id": "3f66c18524954a2e853a054e57570230",
    "deepnote_cell_height": 99,
    "deepnote_cell_type": "code",
    "deepnote_to_be_reexecuted": false,
    "execution_millis": 54,
    "execution_start": 1656694387007,
    "source_hash": "45a5b54c",
    "tags": []
   },
   "outputs": [],
   "source": [
    "# Isi missing value pada provinsi dengan \"Unknown\"\n",
    "df['Province/State'] = df['Province/State'].fillna('Unknown')"
   ]
  },
  {
   "cell_type": "code",
   "execution_count": 7,
   "metadata": {
    "cell_id": "7938c8b24c2a44d8b78bdb5853fd9bd1",
    "deepnote_cell_height": 395,
    "deepnote_cell_type": "code",
    "deepnote_to_be_reexecuted": false,
    "execution_millis": 63,
    "execution_start": 1656694387079,
    "source_hash": "c085b6ba",
    "tags": []
   },
   "outputs": [
    {
     "data": {
      "text/html": [
       "<div>\n",
       "<style scoped>\n",
       "    .dataframe tbody tr th:only-of-type {\n",
       "        vertical-align: middle;\n",
       "    }\n",
       "\n",
       "    .dataframe tbody tr th {\n",
       "        vertical-align: top;\n",
       "    }\n",
       "\n",
       "    .dataframe thead th {\n",
       "        text-align: right;\n",
       "    }\n",
       "</style>\n",
       "<table border=\"1\" class=\"dataframe\">\n",
       "  <thead>\n",
       "    <tr style=\"text-align: right;\">\n",
       "      <th></th>\n",
       "      <th>Province/State</th>\n",
       "      <th>Country/Region</th>\n",
       "      <th>Confirmed</th>\n",
       "      <th>Deaths</th>\n",
       "      <th>Recovered</th>\n",
       "    </tr>\n",
       "  </thead>\n",
       "  <tbody>\n",
       "    <tr>\n",
       "      <th>0</th>\n",
       "      <td>Anhui</td>\n",
       "      <td>Mainland China</td>\n",
       "      <td>1.0</td>\n",
       "      <td>0.0</td>\n",
       "      <td>0.0</td>\n",
       "    </tr>\n",
       "    <tr>\n",
       "      <th>1</th>\n",
       "      <td>Beijing</td>\n",
       "      <td>Mainland China</td>\n",
       "      <td>14.0</td>\n",
       "      <td>0.0</td>\n",
       "      <td>0.0</td>\n",
       "    </tr>\n",
       "    <tr>\n",
       "      <th>2</th>\n",
       "      <td>Chongqing</td>\n",
       "      <td>Mainland China</td>\n",
       "      <td>6.0</td>\n",
       "      <td>0.0</td>\n",
       "      <td>0.0</td>\n",
       "    </tr>\n",
       "    <tr>\n",
       "      <th>3</th>\n",
       "      <td>Fujian</td>\n",
       "      <td>Mainland China</td>\n",
       "      <td>1.0</td>\n",
       "      <td>0.0</td>\n",
       "      <td>0.0</td>\n",
       "    </tr>\n",
       "    <tr>\n",
       "      <th>4</th>\n",
       "      <td>Gansu</td>\n",
       "      <td>Mainland China</td>\n",
       "      <td>0.0</td>\n",
       "      <td>0.0</td>\n",
       "      <td>0.0</td>\n",
       "    </tr>\n",
       "  </tbody>\n",
       "</table>\n",
       "</div>"
      ],
      "text/plain": [
       "  Province/State  Country/Region  Confirmed  Deaths  Recovered\n",
       "0          Anhui  Mainland China        1.0     0.0        0.0\n",
       "1        Beijing  Mainland China       14.0     0.0        0.0\n",
       "2      Chongqing  Mainland China        6.0     0.0        0.0\n",
       "3         Fujian  Mainland China        1.0     0.0        0.0\n",
       "4          Gansu  Mainland China        0.0     0.0        0.0"
      ]
     },
     "execution_count": 7,
     "metadata": {},
     "output_type": "execute_result"
    }
   ],
   "source": [
    "df.head()"
   ]
  },
  {
   "cell_type": "code",
   "execution_count": 8,
   "metadata": {
    "cell_id": "bc27f6faa1bc4913bcd1c85b4b46decd",
    "deepnote_cell_height": 334.25,
    "deepnote_cell_type": "code",
    "deepnote_to_be_reexecuted": false,
    "execution_millis": 122,
    "execution_start": 1656694387146,
    "source_hash": "de1e323c",
    "tags": []
   },
   "outputs": [
    {
     "name": "stdout",
     "output_type": "stream",
     "text": [
      "<class 'pandas.core.frame.DataFrame'>\n",
      "RangeIndex: 306429 entries, 0 to 306428\n",
      "Data columns (total 5 columns):\n",
      " #   Column          Non-Null Count   Dtype  \n",
      "---  ------          --------------   -----  \n",
      " 0   Province/State  306429 non-null  object \n",
      " 1   Country/Region  306429 non-null  object \n",
      " 2   Confirmed       306429 non-null  float64\n",
      " 3   Deaths          306429 non-null  float64\n",
      " 4   Recovered       306429 non-null  float64\n",
      "dtypes: float64(3), object(2)\n",
      "memory usage: 11.7+ MB\n"
     ]
    }
   ],
   "source": [
    "df.info()"
   ]
  },
  {
   "cell_type": "code",
   "execution_count": 9,
   "metadata": {
    "cell_id": "7f70cab118834a7c838412eb9e139210",
    "deepnote_cell_height": 117,
    "deepnote_cell_type": "code",
    "deepnote_to_be_reexecuted": false,
    "execution_millis": 40,
    "execution_start": 1656694387277,
    "source_hash": "811f8c7b",
    "tags": []
   },
   "outputs": [],
   "source": [
    "df['Confirmed'] = df['Confirmed'].astype('int32')\n",
    "df['Deaths'] = df['Deaths'].astype('int32')\n",
    "df['Recovered'] = df['Recovered'].astype('int32')"
   ]
  },
  {
   "cell_type": "code",
   "execution_count": 10,
   "metadata": {
    "cell_id": "d5bcd9bb64f949f492f80a1b18a54bb8",
    "deepnote_cell_height": 334.25,
    "deepnote_cell_type": "code",
    "deepnote_to_be_reexecuted": false,
    "execution_millis": 129,
    "execution_start": 1656694387320,
    "source_hash": "de1e323c",
    "tags": []
   },
   "outputs": [
    {
     "name": "stdout",
     "output_type": "stream",
     "text": [
      "<class 'pandas.core.frame.DataFrame'>\n",
      "RangeIndex: 306429 entries, 0 to 306428\n",
      "Data columns (total 5 columns):\n",
      " #   Column          Non-Null Count   Dtype \n",
      "---  ------          --------------   ----- \n",
      " 0   Province/State  306429 non-null  object\n",
      " 1   Country/Region  306429 non-null  object\n",
      " 2   Confirmed       306429 non-null  int32 \n",
      " 3   Deaths          306429 non-null  int32 \n",
      " 4   Recovered       306429 non-null  int32 \n",
      "dtypes: int32(3), object(2)\n",
      "memory usage: 8.2+ MB\n"
     ]
    }
   ],
   "source": [
    "df.info()"
   ]
  },
  {
   "cell_type": "code",
   "execution_count": 11,
   "metadata": {
    "cell_id": "984fe5d1608746bcaa17591018202cd2",
    "deepnote_cell_height": 518,
    "deepnote_cell_type": "code",
    "deepnote_to_be_reexecuted": false,
    "execution_millis": 143,
    "execution_start": 1656694387459,
    "source_hash": "f88152d9",
    "tags": []
   },
   "outputs": [
    {
     "data": {
      "text/html": [
       "<div>\n",
       "<style scoped>\n",
       "    .dataframe tbody tr th:only-of-type {\n",
       "        vertical-align: middle;\n",
       "    }\n",
       "\n",
       "    .dataframe tbody tr th {\n",
       "        vertical-align: top;\n",
       "    }\n",
       "\n",
       "    .dataframe thead th {\n",
       "        text-align: right;\n",
       "    }\n",
       "</style>\n",
       "<table border=\"1\" class=\"dataframe\">\n",
       "  <thead>\n",
       "    <tr style=\"text-align: right;\">\n",
       "      <th></th>\n",
       "      <th>Confirmed</th>\n",
       "      <th>Deaths</th>\n",
       "      <th>Recovered</th>\n",
       "    </tr>\n",
       "  </thead>\n",
       "  <tbody>\n",
       "    <tr>\n",
       "      <th>count</th>\n",
       "      <td>3.064290e+05</td>\n",
       "      <td>306429.000000</td>\n",
       "      <td>3.064290e+05</td>\n",
       "    </tr>\n",
       "    <tr>\n",
       "      <th>mean</th>\n",
       "      <td>8.567091e+04</td>\n",
       "      <td>2036.403268</td>\n",
       "      <td>5.042029e+04</td>\n",
       "    </tr>\n",
       "    <tr>\n",
       "      <th>std</th>\n",
       "      <td>2.775516e+05</td>\n",
       "      <td>6410.938048</td>\n",
       "      <td>2.015124e+05</td>\n",
       "    </tr>\n",
       "    <tr>\n",
       "      <th>min</th>\n",
       "      <td>-3.028440e+05</td>\n",
       "      <td>-178.000000</td>\n",
       "      <td>-8.544050e+05</td>\n",
       "    </tr>\n",
       "    <tr>\n",
       "      <th>25%</th>\n",
       "      <td>1.042000e+03</td>\n",
       "      <td>13.000000</td>\n",
       "      <td>1.100000e+01</td>\n",
       "    </tr>\n",
       "    <tr>\n",
       "      <th>50%</th>\n",
       "      <td>1.037500e+04</td>\n",
       "      <td>192.000000</td>\n",
       "      <td>1.751000e+03</td>\n",
       "    </tr>\n",
       "    <tr>\n",
       "      <th>75%</th>\n",
       "      <td>5.075200e+04</td>\n",
       "      <td>1322.000000</td>\n",
       "      <td>2.027000e+04</td>\n",
       "    </tr>\n",
       "    <tr>\n",
       "      <th>max</th>\n",
       "      <td>5.863138e+06</td>\n",
       "      <td>112385.000000</td>\n",
       "      <td>6.399531e+06</td>\n",
       "    </tr>\n",
       "  </tbody>\n",
       "</table>\n",
       "</div>"
      ],
      "text/plain": [
       "          Confirmed         Deaths     Recovered\n",
       "count  3.064290e+05  306429.000000  3.064290e+05\n",
       "mean   8.567091e+04    2036.403268  5.042029e+04\n",
       "std    2.775516e+05    6410.938048  2.015124e+05\n",
       "min   -3.028440e+05    -178.000000 -8.544050e+05\n",
       "25%    1.042000e+03      13.000000  1.100000e+01\n",
       "50%    1.037500e+04     192.000000  1.751000e+03\n",
       "75%    5.075200e+04    1322.000000  2.027000e+04\n",
       "max    5.863138e+06  112385.000000  6.399531e+06"
      ]
     },
     "execution_count": 11,
     "metadata": {},
     "output_type": "execute_result"
    }
   ],
   "source": [
    "df.describe()"
   ]
  },
  {
   "cell_type": "code",
   "execution_count": 12,
   "metadata": {
    "cell_id": "bb0d8c3f7bf441749bd0fa9a90e49281",
    "deepnote_cell_height": 354,
    "deepnote_cell_type": "code",
    "deepnote_table_loading": false,
    "deepnote_table_state": {
     "filters": [],
     "pageIndex": 0,
     "pageSize": 10,
     "sortBy": []
    },
    "deepnote_to_be_reexecuted": false,
    "execution_millis": 285,
    "execution_start": 1656694387610,
    "source_hash": "d49e8695",
    "tags": []
   },
   "outputs": [
    {
     "data": {
      "text/html": [
       "<div>\n",
       "<style scoped>\n",
       "    .dataframe tbody tr th:only-of-type {\n",
       "        vertical-align: middle;\n",
       "    }\n",
       "\n",
       "    .dataframe tbody tr th {\n",
       "        vertical-align: top;\n",
       "    }\n",
       "\n",
       "    .dataframe thead th {\n",
       "        text-align: right;\n",
       "    }\n",
       "</style>\n",
       "<table border=\"1\" class=\"dataframe\">\n",
       "  <thead>\n",
       "    <tr style=\"text-align: right;\">\n",
       "      <th></th>\n",
       "      <th>Province/State</th>\n",
       "      <th>Country/Region</th>\n",
       "    </tr>\n",
       "  </thead>\n",
       "  <tbody>\n",
       "    <tr>\n",
       "      <th>count</th>\n",
       "      <td>306429</td>\n",
       "      <td>306429</td>\n",
       "    </tr>\n",
       "    <tr>\n",
       "      <th>unique</th>\n",
       "      <td>737</td>\n",
       "      <td>229</td>\n",
       "    </tr>\n",
       "    <tr>\n",
       "      <th>top</th>\n",
       "      <td>Unknown</td>\n",
       "      <td>Russia</td>\n",
       "    </tr>\n",
       "    <tr>\n",
       "      <th>freq</th>\n",
       "      <td>82223</td>\n",
       "      <td>30251</td>\n",
       "    </tr>\n",
       "  </tbody>\n",
       "</table>\n",
       "</div>"
      ],
      "text/plain": [
       "       Province/State Country/Region\n",
       "count          306429         306429\n",
       "unique            737            229\n",
       "top           Unknown         Russia\n",
       "freq            82223          30251"
      ]
     },
     "execution_count": 12,
     "metadata": {},
     "output_type": "execute_result"
    }
   ],
   "source": [
    "df.describe(include='O')"
   ]
  },
  {
   "cell_type": "code",
   "execution_count": 13,
   "metadata": {
    "cell_id": "39a292a7d4a64974b070f6762bda74f2",
    "deepnote_cell_height": 791,
    "deepnote_cell_type": "code",
    "deepnote_to_be_reexecuted": false,
    "execution_millis": 197,
    "execution_start": 1656694387902,
    "source_hash": "a62deea8",
    "tags": []
   },
   "outputs": [
    {
     "name": "stdout",
     "output_type": "stream",
     "text": [
      "Unique value dari kolom \"Province/State\" adalah :\n",
      "['Anhui' 'Beijing' 'Chongqing' 'Fujian' 'Gansu' 'Guangdong' 'Guangxi'\n",
      " 'Guizhou' 'Hainan' 'Hebei' 'Heilongjiang' 'Henan' 'Hong Kong' 'Hubei'\n",
      " 'Hunan' 'Inner Mongolia' 'Jiangsu' 'Jiangxi' 'Jilin' 'Liaoning' 'Macau'\n",
      " 'Ningxia' 'Qinghai' 'Shaanxi' 'Shandong' 'Shanghai' 'Shanxi' 'Sichuan'\n",
      " 'Taiwan' 'Tianjin' 'Tibet' 'Washington' 'Xinjiang' 'Yunnan' 'Zhejiang'\n",
      " 'Unknown' 'Chicago' 'Illinois' 'California' 'Arizona' 'Ontario'\n",
      " 'New South Wales' 'Victoria' 'British Columbia' 'Bavaria' 'Queensland'\n",
      " 'Chicago, IL' 'South Australia' 'Boston, MA' 'Los Angeles, CA'\n",
      " 'Orange, CA' 'Santa Clara, CA' 'Seattle, WA' 'Tempe, AZ' 'San Benito, CA'\n",
      " 'Toronto, ON' 'London, ON' 'Madison, WI' 'Cruise Ship'\n",
      " 'Diamond Princess cruise ship' 'San Diego County, CA' 'San Antonio, TX'\n",
      " 'Ashland, NE' 'Travis, CA' 'From Diamond Princess' 'Lackland, TX' 'None'\n",
      " 'Humboldt County, CA' 'Sacramento County, CA'\n",
      " 'Omaha, NE (From Diamond Princess)' 'Travis, CA (From Diamond Princess)'\n",
      " 'Lackland, TX (From Diamond Princess)'\n",
      " 'Unassigned Location (From Diamond Princess)' ' Montreal, QC'\n",
      " 'Western Australia' 'Portland, OR' 'Snohomish County, WA'\n",
      " 'Providence, RI' 'King County, WA' 'Cook County, IL' 'Tasmania'\n",
      " 'Grafton County, NH' 'Hillsborough, FL' 'New York City, NY'\n",
      " 'Placer County, CA' 'San Mateo, CA' 'Sarasota, FL' 'Sonoma County, CA'\n",
      " 'Umatilla, OR' 'Fulton County, GA' 'Washington County, OR'\n",
      " ' Norfolk County, MA' 'Berkeley, CA' 'Maricopa County, AZ'\n",
      " 'Wake County, NC' 'Westchester County, NY' 'Orange County, CA'\n",
      " 'Northern Territory' 'Contra Costa County, CA' 'Bergen County, NJ'\n",
      " 'Harris County, TX' 'San Francisco County, CA' 'Clark County, NV'\n",
      " 'Fort Bend County, TX' 'Grant County, WA' 'Queens County, NY'\n",
      " 'Santa Rosa County, FL' 'Williamson County, TN' 'New York County, NY'\n",
      " 'Unassigned Location, WA' 'Montgomery County, MD' 'Suffolk County, MA'\n",
      " 'Denver County, CO' 'Summit County, CO' 'Calgary, Alberta'\n",
      " 'Chatham County, NC' 'Delaware County, PA' 'Douglas County, NE'\n",
      " 'Fayette County, KY' 'Floyd County, GA' 'Marion County, IN'\n",
      " 'Middlesex County, MA' 'Nassau County, NY' 'Norwell County, MA'\n",
      " 'Ramsey County, MN' 'Washoe County, NV' 'Wayne County, PA'\n",
      " 'Yolo County, CA' 'Santa Clara County, CA' 'Grand Princess Cruise Ship'\n",
      " 'Douglas County, CO' 'Providence County, RI' 'Alameda County, CA'\n",
      " 'Broward County, FL' 'Fairfield County, CT' 'Lee County, FL'\n",
      " 'Pinal County, AZ' 'Rockland County, NY' 'Saratoga County, NY'\n",
      " 'Edmonton, Alberta' 'Charleston County, SC' 'Clark County, WA'\n",
      " 'Cobb County, GA' 'Davis County, UT' 'El Paso County, CO'\n",
      " 'Honolulu County, HI' 'Jackson County, OR ' 'Jefferson County, WA'\n",
      " 'Kershaw County, SC' 'Klamath County, OR' 'Madera County, CA'\n",
      " 'Pierce County, WA' 'Plymouth County, MA' 'Santa Cruz County, CA'\n",
      " 'Tulsa County, OK' 'Montgomery County, TX' 'Norfolk County, MA'\n",
      " 'Montgomery County, PA' 'Fairfax County, VA' 'Rockingham County, NH'\n",
      " 'Washington, D.C.' 'Berkshire County, MA' 'Davidson County, TN'\n",
      " 'Douglas County, OR' 'Fresno County, CA' 'Harford County, MD'\n",
      " 'Hendricks County, IN' 'Hudson County, NJ' 'Johnson County, KS'\n",
      " 'Kittitas County, WA' 'Manatee County, FL' 'Marion County, OR'\n",
      " 'Okaloosa County, FL' 'Polk County, GA' 'Riverside County, CA'\n",
      " 'Shelby County, TN' 'Spokane County, WA' 'St. Louis County, MO'\n",
      " 'Suffolk County, NY' 'Ulster County, NY' 'Unassigned Location, VT'\n",
      " 'Unknown Location, MA' 'Volusia County, FL' 'Alberta' 'Quebec'\n",
      " 'Johnson County, IA' 'Harrison County, KY' 'Bennington County, VT'\n",
      " 'Carver County, MN' 'Charlotte County, FL' 'Cherokee County, GA'\n",
      " 'Collin County, TX' 'Jefferson County, KY' 'Jefferson Parish, LA'\n",
      " 'Shasta County, CA' 'Spartanburg County, SC' 'New York' 'Massachusetts'\n",
      " 'Grand Princess' 'Georgia' 'Colorado' 'Florida' 'New Jersey' 'Oregon'\n",
      " 'Texas' 'Pennsylvania' 'Iowa' 'Maryland' 'North Carolina'\n",
      " 'South Carolina' 'Tennessee' 'Virginia' 'Indiana' 'Kentucky'\n",
      " 'District of Columbia' 'Nevada' 'New Hampshire' 'Minnesota' 'Nebraska'\n",
      " 'Ohio' 'Rhode Island' 'Wisconsin' 'Connecticut' 'Hawaii' 'Oklahoma'\n",
      " 'Utah' 'Kansas' 'Louisiana' 'Missouri' 'Vermont' 'Alaska' 'Arkansas'\n",
      " 'Delaware' 'Idaho' 'Maine' 'Michigan' 'Mississippi' 'Montana'\n",
      " 'New Mexico' 'North Dakota' 'South Dakota' 'West Virginia' 'Wyoming'\n",
      " 'France' 'UK' 'Denmark' 'Faroe Islands' 'St Martin' 'Channel Islands'\n",
      " 'New Brunswick' 'Saint Barthelemy' 'Gibraltar'\n",
      " 'Australian Capital Territory' 'United Kingdom' 'French Polynesia'\n",
      " 'Manitoba' 'Saskatchewan' 'Alabama' 'Fench Guiana' 'Puerto Rico'\n",
      " 'Virgin Islands, U.S.' 'French Guiana' 'Guam' 'Newfoundland and Labrador'\n",
      " 'Prince Edward Island' 'Mayotte' 'Netherlands' 'Nova Scotia' 'Guadeloupe'\n",
      " 'Curacao' 'Virgin Islands' 'Cayman Islands' 'Reunion' 'Aruba'\n",
      " 'United States Virgin Islands' 'US' 'Montserrat' 'Greenland'\n",
      " 'New Caledonia' 'Bermuda' 'Sint Maarten' 'Isle of Man'\n",
      " 'Northwest Territories' 'American Samoa' 'External territories'\n",
      " 'Jervis Bay Territory' 'Martinique' 'Northern Mariana Islands' 'Nunavut'\n",
      " 'Saint Helena, Ascension and Tristan da Cunha' 'Wuhan Evacuee'\n",
      " 'Recovered' 'Yukon' 'Anguilla' 'British Virgin Islands'\n",
      " 'Turks and Caicos Islands' 'Bonaire, Sint Eustatius and Saba'\n",
      " 'Falkland Islands (Islas Malvinas)' 'Saint Pierre and Miquelon'\n",
      " 'Falkland Islands (Malvinas)' 'Abruzzo' 'Andalusia' 'Aragon' 'Asturias'\n",
      " 'Baden-Wurttemberg' 'Baleares' 'Basilicata' 'Bayern' 'Berlin'\n",
      " 'Brandenburg' 'Bremen' 'C. Valenciana' 'Calabria' 'Campania' 'Canarias'\n",
      " 'Cantabria' 'Castilla - La Mancha' 'Castilla y Leon' 'Catalonia' 'Ceuta'\n",
      " 'Emilia-Romagna' 'Extremadura' 'Friuli Venezia Giulia' 'Galicia'\n",
      " 'Hamburg' 'Hessen' 'La Rioja' 'Lazio' 'Liguria' 'Lombardia' 'Madrid'\n",
      " 'Marche' 'Mecklenburg-Vorpommern' 'Melilla' 'Molise' 'Murcia' 'Navarra'\n",
      " 'Niedersachsen' 'Nordrhein-Westfalen' 'P.A. Bolzano' 'P.A. Trento'\n",
      " 'Pais Vasco' 'Piemonte' 'Puglia' 'Rheinland-Pfalz' 'Saarland' 'Sachsen'\n",
      " 'Sachsen-Anhalt' 'Sardegna' 'Schleswig-Holstein' 'Sicilia' 'Thuringen'\n",
      " 'Toscana' 'Umbria' \"Valle d'Aosta\" 'Veneto' 'Acre' 'Aguascalientes'\n",
      " 'Alagoas' 'Amapa' 'Amazonas' 'Antofagasta' 'Araucania'\n",
      " 'Arica y Parinacota' 'Atacama' 'Aysen' 'Bahia' 'Baja California'\n",
      " 'Baja California Sur' 'Biobio' 'Campeche' 'Ceara' 'Chiapas' 'Chihuahua'\n",
      " 'Ciudad de Mexico' 'Coahuila' 'Colima' 'Coquimbo' 'Distrito Federal'\n",
      " 'Durango' 'Espirito Santo' 'Goias' 'Guanajuato' 'Guerrero' 'Hidalgo'\n",
      " 'Jalisco' 'Los Lagos' 'Los Rios' 'Magallanes' 'Maranhao' 'Mato Grosso'\n",
      " 'Mato Grosso do Sul' 'Maule' 'Metropolitana' 'Mexico' 'Michoacan'\n",
      " 'Minas Gerais' 'Morelos' 'Nayarit' 'Nuble' 'Nuevo Leon' 'OHiggins'\n",
      " 'Oaxaca' 'Para' 'Paraiba' 'Parana' 'Pernambuco' 'Piaui' 'Puebla'\n",
      " 'Queretaro' 'Quintana Roo' 'Rio Grande do Norte' 'Rio Grande do Sul'\n",
      " 'Rio de Janeiro' 'Rondonia' 'Roraima' 'San Luis Potosi' 'Santa Catarina'\n",
      " 'Sao Paulo' 'Sergipe' 'Sinaloa' 'Sonora' 'Tabasco' 'Tamaulipas'\n",
      " 'Tarapaca' 'Tlaxcala' 'Tocantins' 'Valparaiso' 'Veracruz' 'Yucatan'\n",
      " 'Zacatecas' 'Aichi' 'Akita' 'Ancash' 'Antioquia' 'Aomori' 'Apurimac'\n",
      " 'Arauca' 'Arequipa' 'Atlantico' 'Ayacucho' 'Bolivar' 'Boyaca' 'Cajamarca'\n",
      " 'Caldas' 'Callao' 'Capital District' 'Caqueta' 'Casanare' 'Cauca' 'Cesar'\n",
      " 'Chiba' 'Choco' 'Cordoba' 'Cundinamarca' 'Cusco' 'Ehime' 'Fukui'\n",
      " 'Fukuoka' 'Fukushima' 'Gifu' 'Gunma' 'Hiroshima' 'Hokkaido'\n",
      " 'Huancavelica' 'Huanuco' 'Huila' 'Hyogo' 'Ibaraki' 'Ica' 'Ishikawa'\n",
      " 'Junin' 'Kagawa' 'Kagoshima' 'Kanagawa' 'Kochi' 'Kumamoto' 'Kyoto'\n",
      " 'La Guajira' 'La Libertad' 'Lambayeque' 'Lima' 'Loreto' 'Madre de Dios'\n",
      " 'Magdalena' 'Meta' 'Mie' 'Miyagi' 'Miyazaki' 'Moquegua' 'Nagano'\n",
      " 'Nagasaki' 'Nara' 'Narino' 'Niigata' 'Norte de Santander' 'Oita'\n",
      " 'Okayama' 'Okinawa' 'Osaka' 'Pasco' 'Piura' 'Port Quarantine' 'Puno'\n",
      " 'Putumayo' 'Quindio' 'Risaralda' 'Saga' 'Saitama'\n",
      " 'San Andres y Providencia' 'San Martin' 'Santander' 'Shiga' 'Shimane'\n",
      " 'Shizuoka' 'Sucre' 'Tacna' 'Tochigi' 'Tokushima' 'Tokyo' 'Tolima'\n",
      " 'Tottori' 'Toyama' 'Tumbes' 'Ucayali' 'Valle del Cauca' 'Vaupes'\n",
      " 'Wakayama' 'Yamagata' 'Yamaguchi' 'Yamanashi' 'Guainia' 'Vichada'\n",
      " 'Adygea Republic' 'Altai Krai' 'Altai Republic' 'Amur Oblast'\n",
      " 'Arkhangelsk Oblast' 'Astrakhan Oblast' 'Bashkortostan Republic'\n",
      " 'Belgorod Oblast' 'Bryansk Oblast' 'Buryatia Republic' 'Chechen Republic'\n",
      " 'Chelyabinsk Oblast' 'Cherkasy Oblast' 'Chernihiv Oblast'\n",
      " 'Chernivtsi Oblast' 'Chukotka Autonomous Okrug' 'Chuvashia Republic'\n",
      " 'Crimea Republic*' 'Dagestan Republic' 'Dnipropetrovsk Oblast'\n",
      " 'Donetsk Oblast' 'Ingushetia Republic' 'Irkutsk Oblast'\n",
      " 'Ivano-Frankivsk Oblast' 'Ivanovo Oblast' 'Jewish Autonomous Okrug'\n",
      " 'Kabardino-Balkarian Republic' 'Kaliningrad Oblast' 'Kalmykia Republic'\n",
      " 'Kaluga Oblast' 'Kamchatka Krai' 'Karachay-Cherkess Republic'\n",
      " 'Karelia Republic' 'Kemerovo Oblast' 'Khabarovsk Krai'\n",
      " 'Khakassia Republic' 'Khanty-Mansi Autonomous Okrug' 'Kharkiv Oblast'\n",
      " 'Kherson Oblast' 'Khmelnytskyi Oblast' 'Kiev' 'Kiev Oblast'\n",
      " 'Kirov Oblast' 'Kirovohrad Oblast' 'Komi Republic' 'Kostroma Oblast'\n",
      " 'Krasnodar Krai' 'Krasnoyarsk Krai' 'Kurgan Oblast' 'Kursk Oblast'\n",
      " 'Leningrad Oblast' 'Lipetsk Oblast' 'Luhansk Oblast' 'Lviv Oblast'\n",
      " 'Magadan Oblast' 'Mari El Republic' 'Mordovia Republic' 'Moscow'\n",
      " 'Moscow Oblast' 'Murmansk Oblast' 'Mykolaiv Oblast'\n",
      " 'Nenets Autonomous Okrug' 'Nizhny Novgorod Oblast'\n",
      " 'North Ossetia - Alania Republic' 'Novgorod Oblast' 'Novosibirsk Oblast'\n",
      " 'Odessa Oblast' 'Omsk Oblast' 'Orel Oblast' 'Orenburg Oblast'\n",
      " 'Penza Oblast' 'Perm Krai' 'Poltava Oblast' 'Primorsky Krai'\n",
      " 'Pskov Oblast' 'Rivne Oblast' 'Rostov Oblast' 'Ryazan Oblast'\n",
      " 'Saint Petersburg' 'Sakha (Yakutiya) Republic' 'Sakhalin Oblast'\n",
      " 'Samara Oblast' 'Saratov Oblast' 'Sevastopol*' 'Smolensk Oblast'\n",
      " 'Stavropol Krai' 'Sumy Oblast' 'Sverdlovsk Oblast' 'Tambov Oblast'\n",
      " 'Tatarstan Republic' 'Ternopil Oblast' 'Tomsk Oblast' 'Tula Oblast'\n",
      " 'Tver Oblast' 'Tyumen Oblast' 'Tyva Republic' 'Udmurt Republic'\n",
      " 'Ulyanovsk Oblast' 'Vinnytsia Oblast' 'Vladimir Oblast'\n",
      " 'Volgograd Oblast' 'Vologda Oblast' 'Volyn Oblast' 'Voronezh Oblast'\n",
      " 'Yamalo-Nenets Autonomous Okrug' 'Yaroslavl Oblast' 'Zabaykalsky Krai'\n",
      " 'Zakarpattia Oblast' 'Zaporizhia Oblast' 'Zhytomyr Oblast' 'Blekinge'\n",
      " 'Dalarna' 'Gavleborg' 'Gotland' 'Halland' 'Jamtland Harjedalen'\n",
      " 'Jonkoping' 'Kalmar' 'Kronoberg' 'Norrbotten' 'Orebro' 'Ostergotland'\n",
      " 'Skane' 'Sormland' 'Stockholm' 'Uppsala' 'Varmland' 'Vasterbotten'\n",
      " 'Vasternorrland' 'Vastmanland' 'Vastra Gotaland' 'Guaviare'\n",
      " 'Andaman and Nicobar Islands' 'Andhra Pradesh' 'Arunachal Pradesh'\n",
      " 'Assam' 'Azad Jammu and Kashmir' 'Balochistan' 'Bihar' 'Chandigarh'\n",
      " 'Chhattisgarh' 'Dadar Nagar Haveli' 'Delhi' 'Gilgit-Baltistan' 'Goa'\n",
      " 'Gujarat' 'Haryana' 'Himachal Pradesh' 'Islamabad' 'Jammu and Kashmir'\n",
      " 'Jharkhand' 'Karnataka' 'Kerala' 'Khyber Pakhtunkhwa' 'Ladakh'\n",
      " 'Madhya Pradesh' 'Maharashtra' 'Manipur' 'Meghalaya' 'Mizoram' 'Nagaland'\n",
      " 'Odisha' 'Puducherry' 'Punjab' 'Rajasthan' 'Sikkim' 'Sindh' 'Tamil Nadu'\n",
      " 'Telangana' 'Tripura' 'Uttar Pradesh' 'Uttarakhand' 'West Bengal'\n",
      " 'Dadra and Nagar Haveli and Daman and Diu' 'England' 'Northern Ireland'\n",
      " 'Scotland' 'Wales' 'Drenthe' 'Flevoland' 'Friesland' 'Gelderland'\n",
      " 'Groningen' 'Limburg' 'Noord-Brabant' 'Noord-Holland' 'Overijssel'\n",
      " 'Utrecht' 'Zeeland' 'Zuid-Holland' 'Iwate' 'Lakshadweep' 'Antwerp'\n",
      " 'Brussels' 'East Flanders' 'Flemish Brabant' 'Hainaut' 'Liege'\n",
      " 'Luxembourg' 'Namur' 'Walloon Brabant' 'West Flanders'\n",
      " 'Repatriated Travellers' 'Wallis and Futuna']\n",
      "dengan total : 737\n",
      "\n",
      "Unique value dari kolom \"Country/Region\" adalah :\n",
      "['Mainland China' 'Hong Kong' 'Macau' 'Taiwan' 'US' 'Japan' 'Thailand'\n",
      " 'South Korea' 'China' 'Kiribati' 'Singapore' 'Philippines' 'Malaysia'\n",
      " 'Vietnam' 'Australia' 'Mexico' 'Brazil' 'Colombia' 'France' 'Nepal'\n",
      " 'Canada' 'Cambodia' 'Sri Lanka' 'Ivory Coast' 'Germany' 'Finland'\n",
      " 'United Arab Emirates' 'India' 'Italy' 'UK' 'Russia' 'Sweden' 'Spain'\n",
      " 'Belgium' 'Others' 'Egypt' 'Iran' 'Israel' 'Lebanon' 'Iraq' 'Oman'\n",
      " 'Afghanistan' 'Bahrain' 'Kuwait' 'Austria' 'Algeria' 'Croatia'\n",
      " 'Switzerland' 'Pakistan' 'Georgia' 'Greece' 'North Macedonia' 'Norway'\n",
      " 'Romania' 'Denmark' 'Estonia' 'Netherlands' 'San Marino' ' Azerbaijan'\n",
      " 'Belarus' 'Iceland' 'Lithuania' 'New Zealand' 'Nigeria' 'North Ireland'\n",
      " 'Ireland' 'Luxembourg' 'Monaco' 'Qatar' 'Ecuador' 'Azerbaijan'\n",
      " 'Czech Republic' 'Armenia' 'Dominican Republic' 'Indonesia' 'Portugal'\n",
      " 'Andorra' 'Latvia' 'Morocco' 'Saudi Arabia' 'Senegal' 'Argentina' 'Chile'\n",
      " 'Jordan' 'Ukraine' 'Saint Barthelemy' 'Hungary' 'Faroe Islands'\n",
      " 'Gibraltar' 'Liechtenstein' 'Poland' 'Tunisia' 'Palestine'\n",
      " 'Bosnia and Herzegovina' 'Slovenia' 'South Africa' 'Bhutan' 'Cameroon'\n",
      " 'Costa Rica' 'Peru' 'Serbia' 'Slovakia' 'Togo' 'Vatican City'\n",
      " 'French Guiana' 'Malta' 'Martinique' 'Republic of Ireland' 'Bulgaria'\n",
      " 'Maldives' 'Bangladesh' 'Moldova' 'Paraguay' 'Albania' 'Cyprus'\n",
      " 'St. Martin' 'Brunei' 'occupied Palestinian territory' \"('St. Martin',)\"\n",
      " 'Burkina Faso' 'Channel Islands' 'Holy See' 'Mongolia' 'Panama' 'Bolivia'\n",
      " 'Honduras' 'Congo (Kinshasa)' 'Jamaica' 'Reunion' 'Turkey' 'Cuba'\n",
      " 'Guyana' 'Kazakhstan' 'Cayman Islands' 'Guadeloupe' 'Ethiopia' 'Sudan'\n",
      " 'Guinea' 'Antigua and Barbuda' 'Aruba' 'Kenya' 'Uruguay' 'Ghana' 'Jersey'\n",
      " 'Namibia' 'Seychelles' 'Trinidad and Tobago' 'Venezuela' 'Curacao'\n",
      " 'Eswatini' 'Gabon' 'Guatemala' 'Guernsey' 'Mauritania' 'Rwanda'\n",
      " 'Saint Lucia' 'Saint Vincent and the Grenadines' 'Suriname' 'Kosovo'\n",
      " 'Central African Republic' 'Congo (Brazzaville)' 'Equatorial Guinea'\n",
      " 'Uzbekistan' 'Guam' 'Puerto Rico' 'Benin' 'Greenland' 'Liberia' 'Mayotte'\n",
      " 'Republic of the Congo' 'Somalia' 'Tanzania' 'The Bahamas' 'Barbados'\n",
      " 'Montenegro' 'The Gambia' 'Kyrgyzstan' 'Mauritius' 'Zambia' 'Djibouti'\n",
      " 'Gambia, The' 'Bahamas, The' 'Chad' 'El Salvador' 'Fiji' 'Nicaragua'\n",
      " 'Madagascar' 'Haiti' 'Angola' 'Cabo Verde' 'Niger' 'Papua New Guinea'\n",
      " 'Zimbabwe' 'Cape Verde' 'East Timor' 'Eritrea' 'Uganda' 'Bahamas'\n",
      " 'Dominica' 'Gambia' 'Grenada' 'Mozambique' 'Samoa' 'Syria' 'Timor-Leste'\n",
      " 'Belize' 'Laos' 'Libya' 'Diamond Princess' 'Guinea-Bissau' 'Mali'\n",
      " 'Saint Kitts and Nevis' 'West Bank and Gaza' 'Burma' 'MS Zaandam'\n",
      " 'Botswana' 'Burundi' 'Sierra Leone' 'Malawi' 'South Sudan'\n",
      " 'Sao Tome and Principe' 'Yemen' 'Comoros' 'Tajikistan' 'Lesotho'\n",
      " 'Solomon Islands' 'Marshall Islands' 'Vanuatu' 'Micronesia']\n",
      "dengan total : 229\n",
      "\n"
     ]
    }
   ],
   "source": [
    "col_str = ['Province/State', 'Country/Region']\n",
    "for i in col_str:\n",
    "  print('Unique value dari kolom \"{a}\" adalah :'.format(a=i))\n",
    "  print(df[i].unique())\n",
    "  print('dengan total : {}'.format(len(df[i].unique())))\n",
    "  print('')"
   ]
  },
  {
   "cell_type": "code",
   "execution_count": 14,
   "metadata": {
    "cell_id": "d04bbb3dc7f748d0acfe3b699cf143c3",
    "deepnote_cell_height": 1613,
    "deepnote_cell_type": "code",
    "deepnote_output_heights": [
     null,
     611
    ],
    "deepnote_to_be_reexecuted": false,
    "execution_millis": 12424,
    "execution_start": 1656694388101,
    "source_hash": "3dd3216e",
    "tags": []
   },
   "outputs": [
    {
     "name": "stderr",
     "output_type": "stream",
     "text": [
      "C:\\ProgramData\\Anaconda3\\lib\\site-packages\\seaborn\\_decorators.py:36: FutureWarning: Pass the following variable as a keyword arg: x. From version 0.12, the only valid positional argument will be `data`, and passing other arguments without an explicit keyword will result in an error or misinterpretation.\n",
      "  warnings.warn(\n",
      "C:\\ProgramData\\Anaconda3\\lib\\site-packages\\seaborn\\distributions.py:2551: FutureWarning: `distplot` is a deprecated function and will be removed in a future version. Please adapt your code to use either `displot` (a figure-level function with similar flexibility) or `histplot` (an axes-level function for histograms).\n",
      "  warnings.warn(msg, FutureWarning)\n",
      "C:\\ProgramData\\Anaconda3\\lib\\site-packages\\seaborn\\_decorators.py:36: FutureWarning: Pass the following variable as a keyword arg: x. From version 0.12, the only valid positional argument will be `data`, and passing other arguments without an explicit keyword will result in an error or misinterpretation.\n",
      "  warnings.warn(\n",
      "C:\\ProgramData\\Anaconda3\\lib\\site-packages\\seaborn\\distributions.py:2551: FutureWarning: `distplot` is a deprecated function and will be removed in a future version. Please adapt your code to use either `displot` (a figure-level function with similar flexibility) or `histplot` (an axes-level function for histograms).\n",
      "  warnings.warn(msg, FutureWarning)\n",
      "C:\\ProgramData\\Anaconda3\\lib\\site-packages\\seaborn\\_decorators.py:36: FutureWarning: Pass the following variable as a keyword arg: x. From version 0.12, the only valid positional argument will be `data`, and passing other arguments without an explicit keyword will result in an error or misinterpretation.\n",
      "  warnings.warn(\n",
      "C:\\ProgramData\\Anaconda3\\lib\\site-packages\\seaborn\\distributions.py:2551: FutureWarning: `distplot` is a deprecated function and will be removed in a future version. Please adapt your code to use either `displot` (a figure-level function with similar flexibility) or `histplot` (an axes-level function for histograms).\n",
      "  warnings.warn(msg, FutureWarning)\n"
     ]
    },
    {
     "name": "stdout",
     "output_type": "stream",
     "text": [
      "  adjustable: {'box', 'datalim'}\n",
      "  agg_filter: a filter function, which takes a (m, n, 3) float array and a dpi value, and returns a (m, n, 3) array\n",
      "  alpha: scalar or None\n",
      "  anchor: (float, float) or {'C', 'SW', 'S', 'SE', 'E', 'NE', ...}\n",
      "  animated: bool\n",
      "  aspect: {'auto', 'equal'} or float\n",
      "  autoscale_on: bool\n",
      "  autoscalex_on: bool\n",
      "  autoscaley_on: bool\n",
      "  axes_locator: Callable[[Axes, Renderer], Bbox]\n",
      "  axisbelow: bool or 'line'\n",
      "  box_aspect: float or None\n",
      "  clip_box: `.Bbox`\n",
      "  clip_on: bool\n",
      "  clip_path: Patch or (Path, Transform) or None\n",
      "  facecolor or fc: color\n",
      "  figure: `.Figure`\n",
      "  frame_on: bool\n",
      "  gid: str\n",
      "  in_layout: bool\n",
      "  label: object\n",
      "  navigate: bool\n",
      "  navigate_mode: unknown\n",
      "  path_effects: `.AbstractPathEffect`\n",
      "  picker: None or bool or float or callable\n",
      "  position: [left, bottom, width, height] or `~matplotlib.transforms.Bbox`\n",
      "  prop_cycle: unknown\n",
      "  rasterization_zorder: float or None\n",
      "  rasterized: bool\n",
      "  sketch_params: (scale: float, length: float, randomness: float)\n",
      "  snap: bool or None\n",
      "  subplotspec: unknown\n",
      "  title: str\n",
      "  transform: `.Transform`\n",
      "  url: str\n",
      "  visible: bool\n",
      "  xbound: unknown\n",
      "  xlabel: str\n",
      "  xlim: (bottom: float, top: float)\n",
      "  xmargin: float greater than -0.5\n",
      "  xscale: {\"linear\", \"log\", \"symlog\", \"logit\", ...} or `.ScaleBase`\n",
      "  xticklabels: unknown\n",
      "  xticks: unknown\n",
      "  ybound: unknown\n",
      "  ylabel: str\n",
      "  ylim: (bottom: float, top: float)\n",
      "  ymargin: float greater than -0.5\n",
      "  yscale: {\"linear\", \"log\", \"symlog\", \"logit\", ...} or `.ScaleBase`\n",
      "  yticklabels: unknown\n",
      "  yticks: unknown\n",
      "  zorder: float\n"
     ]
    },
    {
     "data": {
      "image/png": "[encoded data removed]",
      "text/plain": [
       "<Figure size 720x648 with 6 Axes>"
      ]
     },
     "metadata": {},
     "output_type": "display_data"
    }
   ],
   "source": [
    "sns.set(style='white')\n",
    "  \n",
    "# Fungsi untuk membuat plot  \n",
    "def observasi_num(features):  \n",
    "    fig, axs = plt.subplots(3, 2, figsize=(10, 9))\n",
    "    for i, kol in enumerate(features):\n",
    "\t    sns.boxplot(df[kol], ax = axs[i][0])\n",
    "\t    sns.distplot(df[kol], ax = axs[i][1])   \n",
    "\t    axs[i][0].set_title('mean = %.2f\\n median = %.2f\\n std = %.2f'%(df[kol].mean(), df[kol].median(), df[kol].std()))\n",
    "    plt.setp(axs)\n",
    "    plt.tight_layout()\n",
    "    plt.show()  \n",
    "  \n",
    "# Memanggil fungsi untuk membuat Plot untuk data numerik  \n",
    "kolom_numerik = ['Confirmed','Deaths', 'Recovered']\n",
    "observasi_num(kolom_numerik)"
   ]
  },
  {
   "cell_type": "markdown",
   "metadata": {
    "cell_id": "6e519d84f17b41fdb7150fb529c6c929",
    "deepnote_cell_type": "text-cell-h1",
    "formattedRanges": [],
    "is_collapsed": false,
    "tags": []
   },
   "source": [
    "# Pre-Modelling"
   ]
  },
  {
   "cell_type": "markdown",
   "metadata": {
    "cell_id": "6d6a1e29fa744fa28c74e0094cc27dae",
    "deepnote_cell_type": "text-cell-h2",
    "formattedRanges": [],
    "is_collapsed": false,
    "tags": []
   },
   "source": [
    "## Feature Scaling"
   ]
  },
  {
   "cell_type": "code",
   "execution_count": 15,
   "metadata": {
    "cell_id": "6f1959f7cbf244629b43784ef7aaf9b4",
    "deepnote_cell_height": 1039.625,
    "deepnote_cell_type": "code",
    "deepnote_to_be_reexecuted": false,
    "execution_millis": 438,
    "execution_start": 1656694400539,
    "source_hash": "ceab6438",
    "tags": []
   },
   "outputs": [
    {
     "name": "stdout",
     "output_type": "stream",
     "text": [
      "Statistik Sebelum Standardisasi\n",
      "\n",
      "       Confirmed    Deaths  Recovered\n",
      "count   306429.0  306429.0   306429.0\n",
      "mean     85670.9    2036.4    50420.3\n",
      "std     277551.6    6410.9   201512.4\n",
      "min    -302844.0    -178.0  -854405.0\n",
      "25%       1042.0      13.0       11.0\n",
      "50%      10375.0     192.0     1751.0\n",
      "75%      50752.0    1322.0    20270.0\n",
      "max    5863138.0  112385.0  6399531.0\n",
      "Contoh hasil standardisasi\n",
      "\n",
      "   Confirmed    Deaths  Recovered\n",
      "0  -0.308664 -0.317646   -0.25021\n",
      "1  -0.308617 -0.317646   -0.25021\n",
      "2  -0.308645 -0.317646   -0.25021\n",
      "3  -0.308664 -0.317646   -0.25021\n",
      "4  -0.308667 -0.317646   -0.25021\n",
      "Statistik hasil standardisasi\n",
      "\n",
      "       Confirmed    Deaths  Recovered\n",
      "count   306429.0  306429.0   306429.0\n",
      "mean         0.0       0.0       -0.0\n",
      "std          1.0       1.0        1.0\n",
      "min         -1.0      -0.0       -4.0\n",
      "25%         -0.0      -0.0       -0.0\n",
      "50%         -0.0      -0.0       -0.0\n",
      "75%         -0.0      -0.0       -0.0\n",
      "max         21.0      17.0       32.0\n"
     ]
    }
   ],
   "source": [
    "from sklearn.preprocessing import StandardScaler\n",
    "\n",
    "kolom_numerik = ['Confirmed','Deaths', 'Recovered']\n",
    "\n",
    "# Statistik sebelum Standardisasi\n",
    "print('Statistik Sebelum Standardisasi\\n')\n",
    "print(df[kolom_numerik].describe().round(1))\n",
    "\n",
    "# Standardisasi\n",
    "df_std = StandardScaler().fit_transform(df[kolom_numerik])\n",
    "\n",
    "# Membuat DataFrame\n",
    "df_std = pd.DataFrame(data=df_std, index=df.index, columns=df[kolom_numerik].columns)\n",
    "\n",
    "# Menampilkan contoh isi data dan summary statistic\n",
    "print('Contoh hasil standardisasi\\n')\n",
    "print(df_std.head())\n",
    "\n",
    "print('Statistik hasil standardisasi\\n')\n",
    "print(df_std.describe().round(0))"
   ]
  },
  {
   "cell_type": "code",
   "execution_count": 16,
   "metadata": {
    "cell_id": "0d68ea910dca4ff3ad5b5f88824a9ae2",
    "deepnote_cell_height": 483.125,
    "deepnote_cell_type": "code",
    "deepnote_to_be_reexecuted": false,
    "execution_millis": 408,
    "execution_start": 1656694400989,
    "source_hash": "bbf0db73",
    "tags": []
   },
   "outputs": [
    {
     "name": "stdout",
     "output_type": "stream",
     "text": [
      "   Province/State  Country/Region\n",
      "0              24             126\n",
      "1              60             126\n",
      "2             124             126\n",
      "3             194             126\n",
      "4             200             126\n"
     ]
    }
   ],
   "source": [
    "# LABEL ENCODING KATEGORIK\n",
    "\n",
    "from sklearn.preprocessing import LabelEncoder  \n",
    "\n",
    "# Inisiasi nama kolom kategorikal\n",
    "kolom_kategorikal = ['Province/State','Country/Region']\n",
    "\n",
    "# Membuat salinan data frame\n",
    "df_encode = df[kolom_kategorikal].copy()\n",
    "\n",
    "# Melakukan labelEncoder untuk semua kolom kategorikal\n",
    "for col in kolom_kategorikal:\n",
    "    df_encode[col] = LabelEncoder().fit_transform(df_encode[col])\n",
    "\n",
    "# Menampilkan data\n",
    "print(df_encode.head())"
   ]
  },
  {
   "cell_type": "code",
   "execution_count": 17,
   "metadata": {
    "cell_id": "568c192627d64eebaeaa8b18f0fb216f",
    "deepnote_cell_height": 249.125,
    "deepnote_cell_type": "code",
    "deepnote_to_be_reexecuted": false,
    "execution_millis": 48,
    "execution_start": 1656694401406,
    "source_hash": "90c3d977",
    "tags": []
   },
   "outputs": [
    {
     "name": "stdout",
     "output_type": "stream",
     "text": [
      "   Province/State  Country/Region  Confirmed    Deaths  Recovered\n",
      "0              24             126  -0.308664 -0.317646   -0.25021\n",
      "1              60             126  -0.308617 -0.317646   -0.25021\n",
      "2             124             126  -0.308645 -0.317646   -0.25021\n",
      "3             194             126  -0.308664 -0.317646   -0.25021\n",
      "4             200             126  -0.308667 -0.317646   -0.25021\n"
     ]
    }
   ],
   "source": [
    "# Menggabungkan Dataframe (tanpa scaling kategorik)\n",
    "df_model = df_encode.merge(df_std, left_index = True, right_index=True, how = 'left')\n",
    "print(df_model.head())"
   ]
  },
  {
   "cell_type": "code",
   "execution_count": 18,
   "metadata": {
    "cell_id": "9f50ebbd878342a7ab30e68b9ffa7adc",
    "deepnote_cell_height": 1003.625,
    "deepnote_cell_type": "code",
    "deepnote_to_be_reexecuted": false,
    "execution_millis": 204,
    "execution_start": 1656694401459,
    "source_hash": "8f703e21",
    "tags": []
   },
   "outputs": [
    {
     "name": "stdout",
     "output_type": "stream",
     "text": [
      "Statistik Sebelum Standardisasi\n",
      "\n",
      "       Province/State  Country/Region\n",
      "count        306429.0        306429.0\n",
      "mean            445.5           127.7\n",
      "std             226.2            64.2\n",
      "min               0.0             0.0\n",
      "25%             254.0            77.0\n",
      "50%             490.0           126.0\n",
      "75%             669.0           178.0\n",
      "max             736.0           228.0\n",
      "Contoh hasil standardisasi\n",
      "\n",
      "   Province/State  Country/Region\n",
      "0       -1.863431       -0.026917\n",
      "1       -1.704275       -0.026917\n",
      "2       -1.421333       -0.026917\n",
      "3       -1.111864       -0.026917\n",
      "4       -1.085338       -0.026917\n",
      "Statistik hasil standardisasi\n",
      "\n",
      "       Province/State  Country/Region\n",
      "count        306429.0        306429.0\n",
      "mean              0.0            -0.0\n",
      "std               1.0             1.0\n",
      "min              -2.0            -2.0\n",
      "25%              -1.0            -1.0\n",
      "50%               0.0            -0.0\n",
      "75%               1.0             1.0\n",
      "max               1.0             2.0\n"
     ]
    }
   ],
   "source": [
    "from sklearn.preprocessing import StandardScaler\n",
    "\n",
    "# Statistik sebelum Standardisasi\n",
    "print('Statistik Sebelum Standardisasi\\n')\n",
    "print(df_encode.describe().round(1))\n",
    "\n",
    "# Standardisasi\n",
    "df_std_kategorik = StandardScaler().fit_transform(df_encode)\n",
    "\n",
    "# Membuat DataFrame\n",
    "df_std_kategorik = pd.DataFrame(data=df_std_kategorik, index=df.index, columns=df_encode.columns)\n",
    "\n",
    "# Menampilkan contoh isi data dan summary statistic\n",
    "print('Contoh hasil standardisasi\\n')\n",
    "print(df_std_kategorik.head())\n",
    "\n",
    "print('Statistik hasil standardisasi\\n')\n",
    "print(df_std_kategorik.describe().round(0))"
   ]
  },
  {
   "cell_type": "code",
   "execution_count": 19,
   "metadata": {
    "cell_id": "d89023f4c3c94344900f9f67010e655e",
    "deepnote_cell_height": 249.125,
    "deepnote_cell_type": "code",
    "deepnote_to_be_reexecuted": false,
    "execution_millis": 38,
    "execution_start": 1656694401670,
    "source_hash": "ab9ccf8e",
    "tags": []
   },
   "outputs": [
    {
     "name": "stdout",
     "output_type": "stream",
     "text": [
      "   Province/State  Country/Region  Confirmed    Deaths  Recovered\n",
      "0       -1.863431       -0.026917  -0.308664 -0.317646   -0.25021\n",
      "1       -1.704275       -0.026917  -0.308617 -0.317646   -0.25021\n",
      "2       -1.421333       -0.026917  -0.308645 -0.317646   -0.25021\n",
      "3       -1.111864       -0.026917  -0.308664 -0.317646   -0.25021\n",
      "4       -1.085338       -0.026917  -0.308667 -0.317646   -0.25021\n"
     ]
    }
   ],
   "source": [
    "# Menggabungkan Dataframe (dengan scaling kategorik)\n",
    "df_model2 = df_std_kategorik.merge(df_std, left_index = True, right_index=True, how = 'left')\n",
    "print(df_model2.head())"
   ]
  },
  {
   "cell_type": "markdown",
   "metadata": {
    "cell_id": "d2ff3be61cba4268bbf09f74cc3cbb86",
    "deepnote_cell_type": "text-cell-h1",
    "formattedRanges": [],
    "is_collapsed": false,
    "tags": []
   },
   "source": [
    "# Modelling"
   ]
  },
  {
   "cell_type": "markdown",
   "metadata": {
    "cell_id": "3e2105370059497dbfc580c2a9faefcb",
    "deepnote_cell_type": "text-cell-h2",
    "formattedRanges": [],
    "is_collapsed": false,
    "tags": []
   },
   "source": [
    "## K-Means"
   ]
  },
  {
   "cell_type": "markdown",
   "metadata": {
    "cell_id": "03d46831ee1a4c74bb9eeb6c53a5efc1",
    "deepnote_cell_type": "text-cell-h2",
    "formattedRanges": [],
    "is_collapsed": false,
    "tags": []
   },
   "source": [
    "## K-Medoids"
   ]
  },
  {
   "cell_type": "markdown",
   "metadata": {
    "cell_id": "1a6a0c97f3664b2bb3099b17f199289e",
    "deepnote_cell_height": 54,
    "deepnote_cell_type": "markdown",
    "tags": []
   },
   "source": [
    "##### Coba 1"
   ]
  },
  {
   "cell_type": "code",
   "execution_count": 20,
   "metadata": {
    "cell_id": "1be41b7055104a3a9c614cc4c2019996",
    "deepnote_cell_height": 343,
    "deepnote_cell_type": "code",
    "deepnote_to_be_reexecuted": false,
    "execution_millis": 8454,
    "execution_start": 1656694401716,
    "source_hash": "1bd1b4f6",
    "tags": []
   },
   "outputs": [
    {
     "name": "stdout",
     "output_type": "stream",
     "text": [
      "Collecting scikit-learn-extra\n",
      "  Downloading scikit_learn_extra-0.2.0-cp38-cp38-win_amd64.whl (381 kB)\n",
      "Requirement already satisfied: numpy>=1.13.3 in c:\\programdata\\anaconda3\\lib\\site-packages (from scikit-learn-extra) (1.19.5)\n",
      "Requirement already satisfied: scikit-learn>=0.23.0 in c:\\users\\user\\appdata\\roaming\\python\\python38\\site-packages (from scikit-learn-extra) (1.0.2)\n",
      "Requirement already satisfied: scipy>=0.19.1 in c:\\users\\user\\appdata\\roaming\\python\\python38\\site-packages (from scikit-learn-extra) (1.7.1)\n",
      "Requirement already satisfied: threadpoolctl>=2.0.0 in c:\\programdata\\anaconda3\\lib\\site-packages (from scikit-learn>=0.23.0->scikit-learn-extra) (2.1.0)\n",
      "Requirement already satisfied: joblib>=0.11 in c:\\programdata\\anaconda3\\lib\\site-packages (from scikit-learn>=0.23.0->scikit-learn-extra) (0.17.0)\n",
      "Installing collected packages: scikit-learn-extra\n",
      "Successfully installed scikit-learn-extra-0.2.0\n",
      "Note: you may need to restart the kernel to use updated packages.\n"
     ]
    }
   ],
   "source": [
    "pip install scikit-learn-extra"
   ]
  },
  {
   "cell_type": "code",
   "execution_count": 21,
   "metadata": {
    "cell_id": "0c38ef7a647a46a8a428515d70c614c4",
    "deepnote_cell_height": 413,
    "deepnote_cell_type": "code",
    "deepnote_to_be_reexecuted": false,
    "execution_millis": 97,
    "execution_start": 1656694410220,
    "source_hash": "638242dd",
    "tags": []
   },
   "outputs": [
    {
     "data": {
      "text/html": [
       "<div>\n",
       "<style scoped>\n",
       "    .dataframe tbody tr th:only-of-type {\n",
       "        vertical-align: middle;\n",
       "    }\n",
       "\n",
       "    .dataframe tbody tr th {\n",
       "        vertical-align: top;\n",
       "    }\n",
       "\n",
       "    .dataframe thead th {\n",
       "        text-align: right;\n",
       "    }\n",
       "</style>\n",
       "<table border=\"1\" class=\"dataframe\">\n",
       "  <thead>\n",
       "    <tr style=\"text-align: right;\">\n",
       "      <th></th>\n",
       "      <th>Confirmed</th>\n",
       "      <th>Deaths</th>\n",
       "      <th>Recovered</th>\n",
       "    </tr>\n",
       "  </thead>\n",
       "  <tbody>\n",
       "    <tr>\n",
       "      <th>0</th>\n",
       "      <td>-0.308664</td>\n",
       "      <td>-0.317646</td>\n",
       "      <td>-0.25021</td>\n",
       "    </tr>\n",
       "    <tr>\n",
       "      <th>1</th>\n",
       "      <td>-0.308617</td>\n",
       "      <td>-0.317646</td>\n",
       "      <td>-0.25021</td>\n",
       "    </tr>\n",
       "    <tr>\n",
       "      <th>2</th>\n",
       "      <td>-0.308645</td>\n",
       "      <td>-0.317646</td>\n",
       "      <td>-0.25021</td>\n",
       "    </tr>\n",
       "    <tr>\n",
       "      <th>3</th>\n",
       "      <td>-0.308664</td>\n",
       "      <td>-0.317646</td>\n",
       "      <td>-0.25021</td>\n",
       "    </tr>\n",
       "    <tr>\n",
       "      <th>4</th>\n",
       "      <td>-0.308667</td>\n",
       "      <td>-0.317646</td>\n",
       "      <td>-0.25021</td>\n",
       "    </tr>\n",
       "  </tbody>\n",
       "</table>\n",
       "</div>"
      ],
      "text/plain": [
       "   Confirmed    Deaths  Recovered\n",
       "0  -0.308664 -0.317646   -0.25021\n",
       "1  -0.308617 -0.317646   -0.25021\n",
       "2  -0.308645 -0.317646   -0.25021\n",
       "3  -0.308664 -0.317646   -0.25021\n",
       "4  -0.308667 -0.317646   -0.25021"
      ]
     },
     "execution_count": 21,
     "metadata": {},
     "output_type": "execute_result"
    }
   ],
   "source": [
    "df_coba1 = df_model2.iloc[:,[2,3,4]]\n",
    "df_coba1.head()"
   ]
  },
  {
   "cell_type": "code",
   "execution_count": 22,
   "metadata": {
    "cell_id": "2ed7d66abe2941398440e82d1fffc5cf",
    "deepnote_cell_height": 251.3125,
    "deepnote_cell_type": "code",
    "deepnote_output_heights": [
     136.3125
    ],
    "deepnote_to_be_reexecuted": false,
    "execution_millis": 4,
    "execution_start": 1656694410313,
    "source_hash": "af40a425",
    "tags": []
   },
   "outputs": [
    {
     "data": {
      "text/plain": [
       "array([[-0.30866351, -0.31764565, -0.2502097 ],\n",
       "       [-0.30861667, -0.31764565, -0.2502097 ],\n",
       "       [-0.30864549, -0.31764565, -0.2502097 ],\n",
       "       ...,\n",
       "       [-0.3037527 , -0.31748967, -0.24363937],\n",
       "       [ 0.00677024, -0.04654604,  0.16559656],\n",
       "       [ 1.10209627,  0.3455969 , -0.2502097 ]])"
      ]
     },
     "execution_count": 22,
     "metadata": {},
     "output_type": "execute_result"
    }
   ],
   "source": [
    "x = df_coba1.values\n",
    "x"
   ]
  },
  {
   "cell_type": "code",
   "execution_count": 23,
   "metadata": {
    "cell_id": "7925458f1baa4b8fac307057ff30765e",
    "deepnote_cell_height": 81,
    "deepnote_cell_type": "code",
    "deepnote_to_be_reexecuted": false,
    "execution_millis": 344,
    "execution_start": 1656694410314,
    "source_hash": "e2ea28b4",
    "tags": []
   },
   "outputs": [],
   "source": [
    "from sklearn_extra.cluster import KMedoids"
   ]
  },
  {
   "cell_type": "code",
   "execution_count": 24,
   "metadata": {
    "cell_id": "de1259774f9d47a2a6bb552e0e134257",
    "deepnote_cell_height": 351.1875,
    "deepnote_cell_type": "code",
    "deepnote_to_be_reexecuted": false,
    "execution_millis": 568,
    "execution_start": 1656694410669,
    "owner_user_id": "7c16d387-f54e-4732-bbce-6fe4a32bedc0",
    "source_hash": "bc08ed5d",
    "tags": []
   },
   "outputs": [
    {
     "ename": "MemoryError",
     "evalue": "Unable to allocate 700. GiB for an array with shape (306429, 306429) and data type float64",
     "output_type": "error",
     "traceback": [
      "\u001b[1;31m---------------------------------------------------------------------------\u001b[0m",
      "\u001b[1;31mMemoryError\u001b[0m                               Traceback (most recent call last)",
      "\u001b[1;32m<ipython-input-24-14b88e240535>\u001b[0m in \u001b[0;36m<module>\u001b[1;34m\u001b[0m\n\u001b[0;32m      4\u001b[0m \u001b[1;32mfor\u001b[0m \u001b[0mnum_clusters\u001b[0m \u001b[1;32min\u001b[0m \u001b[0mrange\u001b[0m\u001b[1;33m(\u001b[0m\u001b[1;36m1\u001b[0m\u001b[1;33m,\u001b[0m \u001b[1;36m6\u001b[0m\u001b[1;33m)\u001b[0m\u001b[1;33m:\u001b[0m\u001b[1;33m\u001b[0m\u001b[1;33m\u001b[0m\u001b[0m\n\u001b[0;32m      5\u001b[0m     \u001b[0mkmedoids_model\u001b[0m \u001b[1;33m=\u001b[0m \u001b[0mKMedoids\u001b[0m\u001b[1;33m(\u001b[0m\u001b[0mn_clusters\u001b[0m\u001b[1;33m=\u001b[0m\u001b[0mnum_clusters\u001b[0m\u001b[1;33m)\u001b[0m\u001b[1;33m\u001b[0m\u001b[1;33m\u001b[0m\u001b[0m\n\u001b[1;32m----> 6\u001b[1;33m     \u001b[0mkmedoids_model\u001b[0m\u001b[1;33m.\u001b[0m\u001b[0mfit\u001b[0m\u001b[1;33m(\u001b[0m\u001b[0mx\u001b[0m\u001b[1;33m)\u001b[0m\u001b[1;33m\u001b[0m\u001b[1;33m\u001b[0m\u001b[0m\n\u001b[0m\u001b[0;32m      7\u001b[0m     \u001b[0minertia_list\u001b[0m\u001b[1;33m.\u001b[0m\u001b[0mappend\u001b[0m\u001b[1;33m(\u001b[0m\u001b[0mkmedoids_model\u001b[0m\u001b[1;33m.\u001b[0m\u001b[0minertia_\u001b[0m\u001b[1;33m)\u001b[0m\u001b[1;33m\u001b[0m\u001b[1;33m\u001b[0m\u001b[0m\n\u001b[0;32m      8\u001b[0m     \u001b[0mprint\u001b[0m\u001b[1;33m(\u001b[0m\u001b[1;34mf\"The inertia of {num_clusters} clusters : {kmedoids_model.inertia_}\"\u001b[0m\u001b[1;33m)\u001b[0m\u001b[1;33m\u001b[0m\u001b[1;33m\u001b[0m\u001b[0m\n",
      "\u001b[1;32mC:\\ProgramData\\Anaconda3\\lib\\site-packages\\sklearn_extra\\cluster\\_k_medoids.py\u001b[0m in \u001b[0;36mfit\u001b[1;34m(self, X, y)\u001b[0m\n\u001b[0;32m    194\u001b[0m             )\n\u001b[0;32m    195\u001b[0m \u001b[1;33m\u001b[0m\u001b[0m\n\u001b[1;32m--> 196\u001b[1;33m         \u001b[0mD\u001b[0m \u001b[1;33m=\u001b[0m \u001b[0mpairwise_distances\u001b[0m\u001b[1;33m(\u001b[0m\u001b[0mX\u001b[0m\u001b[1;33m,\u001b[0m \u001b[0mmetric\u001b[0m\u001b[1;33m=\u001b[0m\u001b[0mself\u001b[0m\u001b[1;33m.\u001b[0m\u001b[0mmetric\u001b[0m\u001b[1;33m)\u001b[0m\u001b[1;33m\u001b[0m\u001b[1;33m\u001b[0m\u001b[0m\n\u001b[0m\u001b[0;32m    197\u001b[0m         medoid_idxs = self._initialize_medoids(\n\u001b[0;32m    198\u001b[0m             \u001b[0mD\u001b[0m\u001b[1;33m,\u001b[0m \u001b[0mself\u001b[0m\u001b[1;33m.\u001b[0m\u001b[0mn_clusters\u001b[0m\u001b[1;33m,\u001b[0m \u001b[0mrandom_state_\u001b[0m\u001b[1;33m\u001b[0m\u001b[1;33m\u001b[0m\u001b[0m\n",
      "\u001b[1;32m~\\AppData\\Roaming\\Python\\Python38\\site-packages\\sklearn\\metrics\\pairwise.py\u001b[0m in \u001b[0;36mpairwise_distances\u001b[1;34m(X, Y, metric, n_jobs, force_all_finite, **kwds)\u001b[0m\n\u001b[0;32m   1887\u001b[0m         \u001b[0mfunc\u001b[0m \u001b[1;33m=\u001b[0m \u001b[0mpartial\u001b[0m\u001b[1;33m(\u001b[0m\u001b[0mdistance\u001b[0m\u001b[1;33m.\u001b[0m\u001b[0mcdist\u001b[0m\u001b[1;33m,\u001b[0m \u001b[0mmetric\u001b[0m\u001b[1;33m=\u001b[0m\u001b[0mmetric\u001b[0m\u001b[1;33m,\u001b[0m \u001b[1;33m**\u001b[0m\u001b[0mkwds\u001b[0m\u001b[1;33m)\u001b[0m\u001b[1;33m\u001b[0m\u001b[1;33m\u001b[0m\u001b[0m\n\u001b[0;32m   1888\u001b[0m \u001b[1;33m\u001b[0m\u001b[0m\n\u001b[1;32m-> 1889\u001b[1;33m     \u001b[1;32mreturn\u001b[0m \u001b[0m_parallel_pairwise\u001b[0m\u001b[1;33m(\u001b[0m\u001b[0mX\u001b[0m\u001b[1;33m,\u001b[0m \u001b[0mY\u001b[0m\u001b[1;33m,\u001b[0m \u001b[0mfunc\u001b[0m\u001b[1;33m,\u001b[0m \u001b[0mn_jobs\u001b[0m\u001b[1;33m,\u001b[0m \u001b[1;33m**\u001b[0m\u001b[0mkwds\u001b[0m\u001b[1;33m)\u001b[0m\u001b[1;33m\u001b[0m\u001b[1;33m\u001b[0m\u001b[0m\n\u001b[0m\u001b[0;32m   1890\u001b[0m \u001b[1;33m\u001b[0m\u001b[0m\n\u001b[0;32m   1891\u001b[0m \u001b[1;33m\u001b[0m\u001b[0m\n",
      "\u001b[1;32m~\\AppData\\Roaming\\Python\\Python38\\site-packages\\sklearn\\metrics\\pairwise.py\u001b[0m in \u001b[0;36m_parallel_pairwise\u001b[1;34m(X, Y, func, n_jobs, **kwds)\u001b[0m\n\u001b[0;32m   1428\u001b[0m \u001b[1;33m\u001b[0m\u001b[0m\n\u001b[0;32m   1429\u001b[0m     \u001b[1;32mif\u001b[0m \u001b[0meffective_n_jobs\u001b[0m\u001b[1;33m(\u001b[0m\u001b[0mn_jobs\u001b[0m\u001b[1;33m)\u001b[0m \u001b[1;33m==\u001b[0m \u001b[1;36m1\u001b[0m\u001b[1;33m:\u001b[0m\u001b[1;33m\u001b[0m\u001b[1;33m\u001b[0m\u001b[0m\n\u001b[1;32m-> 1430\u001b[1;33m         \u001b[1;32mreturn\u001b[0m \u001b[0mfunc\u001b[0m\u001b[1;33m(\u001b[0m\u001b[0mX\u001b[0m\u001b[1;33m,\u001b[0m \u001b[0mY\u001b[0m\u001b[1;33m,\u001b[0m \u001b[1;33m**\u001b[0m\u001b[0mkwds\u001b[0m\u001b[1;33m)\u001b[0m\u001b[1;33m\u001b[0m\u001b[1;33m\u001b[0m\u001b[0m\n\u001b[0m\u001b[0;32m   1431\u001b[0m \u001b[1;33m\u001b[0m\u001b[0m\n\u001b[0;32m   1432\u001b[0m     \u001b[1;31m# enforce a threading backend to prevent data communication overhead\u001b[0m\u001b[1;33m\u001b[0m\u001b[1;33m\u001b[0m\u001b[1;33m\u001b[0m\u001b[0m\n",
      "\u001b[1;32m~\\AppData\\Roaming\\Python\\Python38\\site-packages\\sklearn\\metrics\\pairwise.py\u001b[0m in \u001b[0;36meuclidean_distances\u001b[1;34m(X, Y, Y_norm_squared, squared, X_norm_squared)\u001b[0m\n\u001b[0;32m    328\u001b[0m             )\n\u001b[0;32m    329\u001b[0m \u001b[1;33m\u001b[0m\u001b[0m\n\u001b[1;32m--> 330\u001b[1;33m     \u001b[1;32mreturn\u001b[0m \u001b[0m_euclidean_distances\u001b[0m\u001b[1;33m(\u001b[0m\u001b[0mX\u001b[0m\u001b[1;33m,\u001b[0m \u001b[0mY\u001b[0m\u001b[1;33m,\u001b[0m \u001b[0mX_norm_squared\u001b[0m\u001b[1;33m,\u001b[0m \u001b[0mY_norm_squared\u001b[0m\u001b[1;33m,\u001b[0m \u001b[0msquared\u001b[0m\u001b[1;33m)\u001b[0m\u001b[1;33m\u001b[0m\u001b[1;33m\u001b[0m\u001b[0m\n\u001b[0m\u001b[0;32m    331\u001b[0m \u001b[1;33m\u001b[0m\u001b[0m\n\u001b[0;32m    332\u001b[0m \u001b[1;33m\u001b[0m\u001b[0m\n",
      "\u001b[1;32m~\\AppData\\Roaming\\Python\\Python38\\site-packages\\sklearn\\metrics\\pairwise.py\u001b[0m in \u001b[0;36m_euclidean_distances\u001b[1;34m(X, Y, X_norm_squared, Y_norm_squared, squared)\u001b[0m\n\u001b[0;32m    369\u001b[0m     \u001b[1;32melse\u001b[0m\u001b[1;33m:\u001b[0m\u001b[1;33m\u001b[0m\u001b[1;33m\u001b[0m\u001b[0m\n\u001b[0;32m    370\u001b[0m         \u001b[1;31m# if dtype is already float64, no need to chunk and upcast\u001b[0m\u001b[1;33m\u001b[0m\u001b[1;33m\u001b[0m\u001b[1;33m\u001b[0m\u001b[0m\n\u001b[1;32m--> 371\u001b[1;33m         \u001b[0mdistances\u001b[0m \u001b[1;33m=\u001b[0m \u001b[1;33m-\u001b[0m\u001b[1;36m2\u001b[0m \u001b[1;33m*\u001b[0m \u001b[0msafe_sparse_dot\u001b[0m\u001b[1;33m(\u001b[0m\u001b[0mX\u001b[0m\u001b[1;33m,\u001b[0m \u001b[0mY\u001b[0m\u001b[1;33m.\u001b[0m\u001b[0mT\u001b[0m\u001b[1;33m,\u001b[0m \u001b[0mdense_output\u001b[0m\u001b[1;33m=\u001b[0m\u001b[1;32mTrue\u001b[0m\u001b[1;33m)\u001b[0m\u001b[1;33m\u001b[0m\u001b[1;33m\u001b[0m\u001b[0m\n\u001b[0m\u001b[0;32m    372\u001b[0m         \u001b[0mdistances\u001b[0m \u001b[1;33m+=\u001b[0m \u001b[0mXX\u001b[0m\u001b[1;33m\u001b[0m\u001b[1;33m\u001b[0m\u001b[0m\n\u001b[0;32m    373\u001b[0m         \u001b[0mdistances\u001b[0m \u001b[1;33m+=\u001b[0m \u001b[0mYY\u001b[0m\u001b[1;33m\u001b[0m\u001b[1;33m\u001b[0m\u001b[0m\n",
      "\u001b[1;32m~\\AppData\\Roaming\\Python\\Python38\\site-packages\\sklearn\\utils\\extmath.py\u001b[0m in \u001b[0;36msafe_sparse_dot\u001b[1;34m(a, b, dense_output)\u001b[0m\n\u001b[0;32m    151\u001b[0m             \u001b[0mret\u001b[0m \u001b[1;33m=\u001b[0m \u001b[0mnp\u001b[0m\u001b[1;33m.\u001b[0m\u001b[0mdot\u001b[0m\u001b[1;33m(\u001b[0m\u001b[0ma\u001b[0m\u001b[1;33m,\u001b[0m \u001b[0mb\u001b[0m\u001b[1;33m)\u001b[0m\u001b[1;33m\u001b[0m\u001b[1;33m\u001b[0m\u001b[0m\n\u001b[0;32m    152\u001b[0m     \u001b[1;32melse\u001b[0m\u001b[1;33m:\u001b[0m\u001b[1;33m\u001b[0m\u001b[1;33m\u001b[0m\u001b[0m\n\u001b[1;32m--> 153\u001b[1;33m         \u001b[0mret\u001b[0m \u001b[1;33m=\u001b[0m \u001b[0ma\u001b[0m \u001b[1;33m@\u001b[0m \u001b[0mb\u001b[0m\u001b[1;33m\u001b[0m\u001b[1;33m\u001b[0m\u001b[0m\n\u001b[0m\u001b[0;32m    154\u001b[0m \u001b[1;33m\u001b[0m\u001b[0m\n\u001b[0;32m    155\u001b[0m     if (\n",
      "\u001b[1;31mMemoryError\u001b[0m: Unable to allocate 700. GiB for an array with shape (306429, 306429) and data type float64"
     ]
    }
   ],
   "source": [
    "# do \"Elbow Method\" to find suitable number for K as cluster\n",
    "\n",
    "inertia_list = []\n",
    "for num_clusters in range(1, 6):\n",
    "    kmedoids_model = KMedoids(n_clusters=num_clusters)\n",
    "    kmedoids_model.fit(x)\n",
    "    inertia_list.append(kmedoids_model.inertia_)\n",
    "    print(f\"The inertia of {num_clusters} clusters : {kmedoids_model.inertia_}\")"
   ]
  },
  {
   "cell_type": "markdown",
   "metadata": {
    "cell_id": "194b711a71e440a6b66311ce454cd510",
    "deepnote_cell_type": "text-cell-h2",
    "formattedRanges": [],
    "is_collapsed": false,
    "tags": []
   },
   "source": [
    "## DBSCAN"
   ]
  },
  {
   "cell_type": "markdown",
   "metadata": {
    "created_in_deepnote_cell": true,
    "deepnote_cell_type": "markdown",
    "tags": []
   },
   "source": [
    "<a style='text-decoration:none;line-height:16px;display:flex;color:#5B5B62;padding:10px;justify-content:end;' href='https://deepnote.com?utm_source=created-in-deepnote-cell&projectId=8c4be797-6ded-4ee5-84e8-c5f3044bd915' target=\"_blank\">\n",
    "<img alt='Created in deepnote.com' style='display:inline;max-height:16px;margin:0px;margin-right:7.5px;' src='data:image/svg+xml;base64,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' > </img>\n",
    "Created in <span style='font-weight:600;margin-left:4px;'>Deepnote</span></a>"
   ]
  }
 ],
 "metadata": {
  "deepnote": {},
  "deepnote_execution_queue": [],
  "deepnote_notebook_id": "5910aa95-dfcb-4bbf-9b18-76145adb1bb6",
  "kernelspec": {
   "display_name": "Python 3",
   "language": "python",
   "name": "python3"
  },
  "language_info": {
   "codemirror_mode": {
    "name": "ipython",
    "version": 3
   },
   "file_extension": ".py",
   "mimetype": "text/x-python",
   "name": "python",
   "nbconvert_exporter": "python",
   "pygments_lexer": "ipython3",
   "version": "3.8.5"
  }
 },
 "nbformat": 4,
 "nbformat_minor": 2
}
